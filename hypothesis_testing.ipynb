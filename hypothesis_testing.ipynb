{
 "cells": [
  {
   "cell_type": "markdown",
   "id": "e8ed4fbb",
   "metadata": {},
   "source": [
    "## Hypothesis Testing "
   ]
  },
  {
   "cell_type": "code",
   "execution_count": 1,
   "id": "27a20fa2",
   "metadata": {},
   "outputs": [],
   "source": [
    "import matplotlib.pyplot as plt\n",
    "import numpy as np\n",
    "np.random.seed(123)\n"
   ]
  },
  {
   "cell_type": "code",
   "execution_count": 2,
   "id": "0e661ef0",
   "metadata": {},
   "outputs": [],
   "source": [
    "import pandas as pd\n",
    "import matplotlib.pyplot as plt\n",
    "import scipy.stats as stats\n",
    "import seaborn as sns\n",
    "from env import user, password, hostname \n",
    "def get_db_url (user, password, hostname, db_name):    \n",
    "    return (f'mysql+pymysql://{user}:{password}@{hostname}/telco_churn')\n",
    "\n",
    "db_url = get_db_url(user, password, hostname,'telco_churn')\n",
    "df = pd.read_sql('SELECT * FROM customers', db_url)"
   ]
  },
  {
   "cell_type": "code",
   "execution_count": 3,
   "id": "1f50a181",
   "metadata": {},
   "outputs": [
    {
     "data": {
      "text/plain": [
       "Index(['customer_id', 'gender', 'senior_citizen', 'partner', 'dependents',\n",
       "       'tenure', 'phone_service', 'multiple_lines', 'internet_service_type_id',\n",
       "       'online_security', 'online_backup', 'device_protection', 'tech_support',\n",
       "       'streaming_tv', 'streaming_movies', 'contract_type_id',\n",
       "       'paperless_billing', 'payment_type_id', 'monthly_charges',\n",
       "       'total_charges', 'churn'],\n",
       "      dtype='object')"
      ]
     },
     "execution_count": 3,
     "metadata": {},
     "output_type": "execute_result"
    }
   ],
   "source": [
    "df.columns"
   ]
  },
  {
   "cell_type": "code",
   "execution_count": 4,
   "id": "c63c1d9c",
   "metadata": {},
   "outputs": [
    {
     "data": {
      "text/plain": [
       "(7043, 21)"
      ]
     },
     "execution_count": 4,
     "metadata": {},
     "output_type": "execute_result"
    }
   ],
   "source": [
    "df.shape"
   ]
  },
  {
   "cell_type": "markdown",
   "id": "9b5b0edb",
   "metadata": {},
   "source": [
    "1. Answer with the type of test you would use (assume normal distribution):"
   ]
  },
  {
   "cell_type": "markdown",
   "id": "93af19bf",
   "metadata": {},
   "source": [
    "* Is there a difference in grades of students on the second floor compared to grades of all students?"
   ]
  },
  {
   "cell_type": "code",
   "execution_count": 5,
   "id": "c5f7a7d6",
   "metadata": {},
   "outputs": [],
   "source": [
    "# Independent t-test (or 2-sample): scipy.stats.ttest_ind"
   ]
  },
  {
   "cell_type": "markdown",
   "id": "ef4e5f64",
   "metadata": {},
   "source": [
    "* Are adults who drink milk taller than adults who dont drink milk?"
   ]
  },
  {
   "cell_type": "code",
   "execution_count": 6,
   "id": "505c4799",
   "metadata": {},
   "outputs": [],
   "source": [
    "# One sample t-test: scipy.stats.ttest_1samp"
   ]
  },
  {
   "cell_type": "markdown",
   "id": "636fde5c",
   "metadata": {},
   "source": [
    "* Is the the price of gas higher in texas or in new mexico?"
   ]
  },
  {
   "cell_type": "code",
   "execution_count": 7,
   "id": "bd267993",
   "metadata": {},
   "outputs": [],
   "source": [
    "# Independent t-test (or 2-sample): scipy.stats.ttest_ind"
   ]
  },
  {
   "cell_type": "markdown",
   "id": "23713e65",
   "metadata": {},
   "source": [
    "* Are there differences in stress levels between students who take data science vs students who take web development vs students who take cloud academy?"
   ]
  },
  {
   "cell_type": "code",
   "execution_count": 8,
   "id": "abf30ed6",
   "metadata": {},
   "outputs": [],
   "source": [
    "# ANOVA: scipy.stats.f_oneway"
   ]
  },
  {
   "cell_type": "markdown",
   "id": "3e75b7c8",
   "metadata": {},
   "source": [
    "2. Ace Realty wants to determine whether the average time it takes to sell homes is different for its two offices. A sample of 40 sales from office #1 revealed a mean of 90 days and a standard deviation of 15 days. A sample of 50 sales from office #2 revealed a mean of 100 days and a standard deviation of 20 days. Use a .05 level of significance."
   ]
  },
  {
   "cell_type": "code",
   "execution_count": 9,
   "id": "8ce48f9a",
   "metadata": {},
   "outputs": [
    {
     "name": "stdout",
     "output_type": "stream",
     "text": [
      "t-score: -2.6252287036468456\n",
      "p-value: 0.01020985244923939\n"
     ]
    }
   ],
   "source": [
    "# Office 1\n",
    "mean1 = 90\n",
    "std1 = 15\n",
    "n1 = 40\n",
    "\n",
    "# Office 2\n",
    "mean2 = 100\n",
    "std2 = 20\n",
    "n2 = 50\n",
    "\n",
    "alpha = .05\n",
    "\n",
    "# Perform two-sample t-test\n",
    "t_score, p_value = stats.ttest_ind_from_stats(mean1, std1, n1, mean2, std2, n2)\n",
    "\n",
    "# Print the results\n",
    "print(\"t-score:\", t_score)\n",
    "print(\"p-value:\", p_value)\n"
   ]
  },
  {
   "cell_type": "code",
   "execution_count": 10,
   "id": "5a11bff5",
   "metadata": {},
   "outputs": [
    {
     "name": "stdout",
     "output_type": "stream",
     "text": [
      "We reject H0 (null hypothesis)\n"
     ]
    }
   ],
   "source": [
    "alpha = 0.05\n",
    "\n",
    "if p_value < alpha:\n",
    "    print(\"We reject H0 (null hypothesis)\")\n",
    "else:\n",
    "    print(\"We fail to reject H0 (null hypothesis)\")"
   ]
  },
  {
   "cell_type": "markdown",
   "id": "e76ba97f",
   "metadata": {},
   "source": [
    "### 3. Load the mpg dataset and use it to answer the following questions:"
   ]
  },
  {
   "cell_type": "markdown",
   "id": "87314324",
   "metadata": {},
   "source": [
    "* Is there a difference in fuel-efficiency in cars from 2008 vs 1999?"
   ]
  },
  {
   "cell_type": "code",
   "execution_count": 11,
   "id": "35eef3f3",
   "metadata": {},
   "outputs": [],
   "source": [
    "from pydataset import data\n",
    "mpg = data('mpg')"
   ]
  },
  {
   "cell_type": "code",
   "execution_count": 12,
   "id": "c19fe6ce",
   "metadata": {},
   "outputs": [
    {
     "data": {
      "text/plain": [
       "Index(['manufacturer', 'model', 'displ', 'year', 'cyl', 'trans', 'drv', 'cty',\n",
       "       'hwy', 'fl', 'class'],\n",
       "      dtype='object')"
      ]
     },
     "execution_count": 12,
     "metadata": {},
     "output_type": "execute_result"
    }
   ],
   "source": [
    "mpg.columns"
   ]
  },
  {
   "cell_type": "code",
   "execution_count": 13,
   "id": "b5228270",
   "metadata": {},
   "outputs": [
    {
     "data": {
      "text/html": [
       "<div>\n",
       "<style scoped>\n",
       "    .dataframe tbody tr th:only-of-type {\n",
       "        vertical-align: middle;\n",
       "    }\n",
       "\n",
       "    .dataframe tbody tr th {\n",
       "        vertical-align: top;\n",
       "    }\n",
       "\n",
       "    .dataframe thead th {\n",
       "        text-align: right;\n",
       "    }\n",
       "</style>\n",
       "<table border=\"1\" class=\"dataframe\">\n",
       "  <thead>\n",
       "    <tr style=\"text-align: right;\">\n",
       "      <th></th>\n",
       "      <th>manufacturer</th>\n",
       "      <th>model</th>\n",
       "      <th>displ</th>\n",
       "      <th>year</th>\n",
       "      <th>cyl</th>\n",
       "      <th>trans</th>\n",
       "      <th>drv</th>\n",
       "      <th>cty</th>\n",
       "      <th>hwy</th>\n",
       "      <th>fl</th>\n",
       "      <th>class</th>\n",
       "    </tr>\n",
       "  </thead>\n",
       "  <tbody>\n",
       "    <tr>\n",
       "      <th>1</th>\n",
       "      <td>audi</td>\n",
       "      <td>a4</td>\n",
       "      <td>1.8</td>\n",
       "      <td>1999</td>\n",
       "      <td>4</td>\n",
       "      <td>auto(l5)</td>\n",
       "      <td>f</td>\n",
       "      <td>18</td>\n",
       "      <td>29</td>\n",
       "      <td>p</td>\n",
       "      <td>compact</td>\n",
       "    </tr>\n",
       "    <tr>\n",
       "      <th>2</th>\n",
       "      <td>audi</td>\n",
       "      <td>a4</td>\n",
       "      <td>1.8</td>\n",
       "      <td>1999</td>\n",
       "      <td>4</td>\n",
       "      <td>manual(m5)</td>\n",
       "      <td>f</td>\n",
       "      <td>21</td>\n",
       "      <td>29</td>\n",
       "      <td>p</td>\n",
       "      <td>compact</td>\n",
       "    </tr>\n",
       "    <tr>\n",
       "      <th>3</th>\n",
       "      <td>audi</td>\n",
       "      <td>a4</td>\n",
       "      <td>2.0</td>\n",
       "      <td>2008</td>\n",
       "      <td>4</td>\n",
       "      <td>manual(m6)</td>\n",
       "      <td>f</td>\n",
       "      <td>20</td>\n",
       "      <td>31</td>\n",
       "      <td>p</td>\n",
       "      <td>compact</td>\n",
       "    </tr>\n",
       "    <tr>\n",
       "      <th>4</th>\n",
       "      <td>audi</td>\n",
       "      <td>a4</td>\n",
       "      <td>2.0</td>\n",
       "      <td>2008</td>\n",
       "      <td>4</td>\n",
       "      <td>auto(av)</td>\n",
       "      <td>f</td>\n",
       "      <td>21</td>\n",
       "      <td>30</td>\n",
       "      <td>p</td>\n",
       "      <td>compact</td>\n",
       "    </tr>\n",
       "    <tr>\n",
       "      <th>5</th>\n",
       "      <td>audi</td>\n",
       "      <td>a4</td>\n",
       "      <td>2.8</td>\n",
       "      <td>1999</td>\n",
       "      <td>6</td>\n",
       "      <td>auto(l5)</td>\n",
       "      <td>f</td>\n",
       "      <td>16</td>\n",
       "      <td>26</td>\n",
       "      <td>p</td>\n",
       "      <td>compact</td>\n",
       "    </tr>\n",
       "  </tbody>\n",
       "</table>\n",
       "</div>"
      ],
      "text/plain": [
       "  manufacturer model  displ  year  cyl       trans drv  cty  hwy fl    class\n",
       "1         audi    a4    1.8  1999    4    auto(l5)   f   18   29  p  compact\n",
       "2         audi    a4    1.8  1999    4  manual(m5)   f   21   29  p  compact\n",
       "3         audi    a4    2.0  2008    4  manual(m6)   f   20   31  p  compact\n",
       "4         audi    a4    2.0  2008    4    auto(av)   f   21   30  p  compact\n",
       "5         audi    a4    2.8  1999    6    auto(l5)   f   16   26  p  compact"
      ]
     },
     "execution_count": 13,
     "metadata": {},
     "output_type": "execute_result"
    }
   ],
   "source": [
    "mpg.head()"
   ]
  },
  {
   "cell_type": "code",
   "execution_count": 14,
   "id": "2ac780e2",
   "metadata": {},
   "outputs": [],
   "source": [
    "mpg_1999 = mpg[mpg['year'] == 1999]['hwy']\n",
    "mpg_2008 = mpg[mpg['year'] == 2008]['hwy']\n"
   ]
  },
  {
   "cell_type": "code",
   "execution_count": 15,
   "id": "9a29c885",
   "metadata": {},
   "outputs": [
    {
     "name": "stdout",
     "output_type": "stream",
     "text": [
      "mpg_1999_avg: 23.427350427350426\n",
      "mpg_2008_avg: 23.45299145299145\n"
     ]
    }
   ],
   "source": [
    "# Get all values from the 'mpg' column\n",
    "mpg_1999_avg = mpg[mpg['year'] == 1999]['hwy'].mean()\n",
    "mpg_2008_avg = mpg[mpg['year'] == 2008]['hwy'].mean()\n",
    "print(f'mpg_1999_avg: {mpg_1999_avg}')\n",
    "print(f'mpg_2008_avg: {mpg_2008_avg}')"
   ]
  },
  {
   "cell_type": "code",
   "execution_count": 16,
   "id": "1e3fdf32",
   "metadata": {},
   "outputs": [
    {
     "data": {
      "text/plain": [
       "<Axes: >"
      ]
     },
     "execution_count": 16,
     "metadata": {},
     "output_type": "execute_result"
    },
    {
     "data": {
      "image/png": "[encoded data removed]",
      "text/plain": [
       "<Figure size 640x480 with 1 Axes>"
      ]
     },
     "metadata": {},
     "output_type": "display_data"
    }
   ],
   "source": [
    "mpg_1999.hist()"
   ]
  },
  {
   "cell_type": "code",
   "execution_count": 17,
   "id": "5035618c",
   "metadata": {},
   "outputs": [
    {
     "data": {
      "text/plain": [
       "<Axes: >"
      ]
     },
     "execution_count": 17,
     "metadata": {},
     "output_type": "execute_result"
    },
    {
     "data": {
      "image/png": "[encoded data removed]",
      "text/plain": [
       "<Figure size 640x480 with 1 Axes>"
      ]
     },
     "metadata": {},
     "output_type": "display_data"
    }
   ],
   "source": [
    "mpg_2008.hist()"
   ]
  },
  {
   "cell_type": "code",
   "execution_count": 18,
   "id": "cd9627d0",
   "metadata": {},
   "outputs": [],
   "source": [
    "t_score, p_value = stats.ttest_ind(mpg_2008, mpg_1999, equal_var=False)"
   ]
  },
  {
   "cell_type": "code",
   "execution_count": 19,
   "id": "6d913363",
   "metadata": {},
   "outputs": [
    {
     "name": "stdout",
     "output_type": "stream",
     "text": [
      "There is not a significant difference in fuel efficiency between 2008 and 1999\n"
     ]
    }
   ],
   "source": [
    "# Is there a significant difference in fuel efficiency between 1999 and 2008\n",
    "alpha = 0.05\n",
    "if p_value < alpha:\n",
    "    print('There is a significant difference in fuel efficiency between 2008 and 1999')\n",
    "else:\n",
    "    print('There is not a significant difference in fuel efficiency between 2008 and 1999')"
   ]
  },
  {
   "cell_type": "markdown",
   "id": "f563a1c0",
   "metadata": {},
   "source": [
    "* Are compact cars more fuel-efficient than the average car?"
   ]
  },
  {
   "cell_type": "code",
   "execution_count": 20,
   "id": "7c0b1797",
   "metadata": {},
   "outputs": [],
   "source": [
    "mpg_compact = mpg[mpg['class'] == 'compact']['hwy']\n",
    "mpg_average = mpg['hwy']"
   ]
  },
  {
   "cell_type": "code",
   "execution_count": 21,
   "id": "3d4dad14",
   "metadata": {},
   "outputs": [
    {
     "data": {
      "text/plain": [
       "1      29\n",
       "2      29\n",
       "3      31\n",
       "4      30\n",
       "5      26\n",
       "6      26\n",
       "7      27\n",
       "8      26\n",
       "9      25\n",
       "10     28\n",
       "11     27\n",
       "12     25\n",
       "13     25\n",
       "14     25\n",
       "15     25\n",
       "142    29\n",
       "143    27\n",
       "170    25\n",
       "171    27\n",
       "172    25\n",
       "173    27\n",
       "187    27\n",
       "188    29\n",
       "189    31\n",
       "190    31\n",
       "191    26\n",
       "192    26\n",
       "193    27\n",
       "194    30\n",
       "195    33\n",
       "196    35\n",
       "197    37\n",
       "198    35\n",
       "208    29\n",
       "209    26\n",
       "210    29\n",
       "211    29\n",
       "212    24\n",
       "213    44\n",
       "214    29\n",
       "215    26\n",
       "216    29\n",
       "217    29\n",
       "218    29\n",
       "219    29\n",
       "220    23\n",
       "221    24\n",
       "Name: hwy, dtype: int64"
      ]
     },
     "execution_count": 21,
     "metadata": {},
     "output_type": "execute_result"
    }
   ],
   "source": [
    "mpg_compact"
   ]
  },
  {
   "cell_type": "code",
   "execution_count": 22,
   "id": "3fa72594",
   "metadata": {},
   "outputs": [
    {
     "data": {
      "text/plain": [
       "1      29\n",
       "2      29\n",
       "3      31\n",
       "4      30\n",
       "5      26\n",
       "       ..\n",
       "230    28\n",
       "231    29\n",
       "232    26\n",
       "233    26\n",
       "234    26\n",
       "Name: hwy, Length: 234, dtype: int64"
      ]
     },
     "execution_count": 22,
     "metadata": {},
     "output_type": "execute_result"
    }
   ],
   "source": [
    "mpg_average"
   ]
  },
  {
   "cell_type": "code",
   "execution_count": 23,
   "id": "98269547",
   "metadata": {},
   "outputs": [
    {
     "name": "stdout",
     "output_type": "stream",
     "text": [
      "mpg_compact_avg: 28.29787234042553\n",
      "mpg_average_avg: 23.44017094017094\n"
     ]
    }
   ],
   "source": [
    "# Get all values from the 'mpg' column\n",
    "mpg_compact_avg = mpg[mpg['class'] == 'compact']['hwy'].mean()\n",
    "mpg_average_avg = mpg['hwy'].mean()\n",
    "print(f'mpg_compact_avg: {mpg_compact_avg}')\n",
    "print(f'mpg_average_avg: {mpg_average_avg}')"
   ]
  },
  {
   "cell_type": "code",
   "execution_count": 24,
   "id": "c24477d4",
   "metadata": {},
   "outputs": [
    {
     "data": {
      "text/plain": [
       "<Axes: >"
      ]
     },
     "execution_count": 24,
     "metadata": {},
     "output_type": "execute_result"
    },
    {
     "data": {
      "image/png": "[encoded data removed]",
      "text/plain": [
       "<Figure size 640x480 with 1 Axes>"
      ]
     },
     "metadata": {},
     "output_type": "display_data"
    }
   ],
   "source": [
    "mpg_compact.hist()"
   ]
  },
  {
   "cell_type": "code",
   "execution_count": 25,
   "id": "bd390086",
   "metadata": {},
   "outputs": [
    {
     "name": "stdout",
     "output_type": "stream",
     "text": [
      "t-score: 8.806470666529446\n",
      "p-value: 1.9716962312410974e-11\n"
     ]
    }
   ],
   "source": [
    "t_score, p_value = stats.ttest_1samp(mpg_compact, mpg_average_avg)\n",
    "\n",
    "# # Print the results\n",
    "print(\"t-score:\", t_score)\n",
    "print(\"p-value:\", p_value)\n"
   ]
  },
  {
   "cell_type": "code",
   "execution_count": 28,
   "id": "6e7ddbdc",
   "metadata": {},
   "outputs": [
    {
     "name": "stdout",
     "output_type": "stream",
     "text": [
      "There is a significant difference in fuel efficiency between compact class and average class\n"
     ]
    }
   ],
   "source": [
    "# Is there a significant difference in fuel efficiency between 1999 and 2008\n",
    "alpha = 0.05\n",
    "if p_value < alpha:\n",
    "    print('There is a significant difference in fuel efficiency between compact class and average class')\n",
    "else:\n",
    "    print('There is not a significant difference in fuel efficiency between compact class and average class')"
   ]
  },
  {
   "cell_type": "markdown",
   "id": "b185a6c6",
   "metadata": {},
   "source": [
    "* Do manual cars get better gas mileage than automatic cars?"
   ]
  }
 ],
 "metadata": {
  "kernelspec": {
   "display_name": "Python 3 (ipykernel)",
   "language": "python",
   "name": "python3"
  },
  "language_info": {
   "codemirror_mode": {
    "name": "ipython",
    "version": 3
   },
   "file_extension": ".py",
   "mimetype": "text/x-python",
   "name": "python",
   "nbconvert_exporter": "python",
   "pygments_lexer": "ipython3",
   "version": "3.10.9"
  }
 },
 "nbformat": 4,
 "nbformat_minor": 5
}
