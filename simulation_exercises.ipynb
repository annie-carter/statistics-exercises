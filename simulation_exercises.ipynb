{
 "cells": [
  {
   "cell_type": "markdown",
   "id": "1b580b56",
   "metadata": {},
   "source": [
    "# Simulations"
   ]
  },
  {
   "cell_type": "code",
   "execution_count": 1,
   "id": "c4898a34",
   "metadata": {},
   "outputs": [],
   "source": [
    "#imports\n",
    "import numpy as np\n",
    "import pandas as pd\n",
    "import matplotlib.pyplot as plt"
   ]
  },
  {
   "cell_type": "code",
   "execution_count": 2,
   "id": "29e8d395",
   "metadata": {},
   "outputs": [],
   "source": [
    "#can use any random seed- lets preset this\n",
    "np.random.seed(1349) \n",
    "\n",
    "#preset the number of simulations we'll have\n",
    "n_simulations =100_000"
   ]
  },
  {
   "cell_type": "markdown",
   "id": "74baf062",
   "metadata": {},
   "source": [
    "<hr style=\"border:2px solid gray\">"
   ]
  },
  {
   "cell_type": "markdown",
   "id": "33328294",
   "metadata": {},
   "source": [
    "### 1. How likely is it that you roll doubles when rolling two dice?\n",
    "#### Expected?"
   ]
  },
  {
   "cell_type": "code",
   "execution_count": 3,
   "id": "d5e0e4ab",
   "metadata": {},
   "outputs": [
    {
     "data": {
      "text/plain": [
       "0.16666666666666666"
      ]
     },
     "execution_count": 3,
     "metadata": {},
     "output_type": "execute_result"
    }
   ],
   "source": [
    "# Expected probability\n",
    "2/12"
   ]
  },
  {
   "cell_type": "markdown",
   "id": "a74eb672",
   "metadata": {},
   "source": [
    "#### Simulate!"
   ]
  },
  {
   "cell_type": "code",
   "execution_count": 4,
   "id": "3435c691",
   "metadata": {},
   "outputs": [],
   "source": [
    "#number of dice\n",
    "number_of_dice = 2 \n",
    "outcomes = [1,2,3,4,5,6]"
   ]
  },
  {
   "cell_type": "code",
   "execution_count": 5,
   "id": "25d1bfcb",
   "metadata": {},
   "outputs": [
    {
     "data": {
      "text/plain": [
       "array([[3, 2],\n",
       "       [5, 3],\n",
       "       [4, 4],\n",
       "       ...,\n",
       "       [3, 5],\n",
       "       [2, 4],\n",
       "       [4, 5]])"
      ]
     },
     "execution_count": 5,
     "metadata": {},
     "output_type": "execute_result"
    }
   ],
   "source": [
    "rolls = np.random.choice(outcomes, size=(n_simulations, number_of_dice))\n",
    "rolls"
   ]
  },
  {
   "cell_type": "code",
   "execution_count": 6,
   "id": "1c9e3ca1",
   "metadata": {},
   "outputs": [
    {
     "data": {
      "text/html": [
       "<div>\n",
       "<style scoped>\n",
       "    .dataframe tbody tr th:only-of-type {\n",
       "        vertical-align: middle;\n",
       "    }\n",
       "\n",
       "    .dataframe tbody tr th {\n",
       "        vertical-align: top;\n",
       "    }\n",
       "\n",
       "    .dataframe thead th {\n",
       "        text-align: right;\n",
       "    }\n",
       "</style>\n",
       "<table border=\"1\" class=\"dataframe\">\n",
       "  <thead>\n",
       "    <tr style=\"text-align: right;\">\n",
       "      <th></th>\n",
       "      <th>0</th>\n",
       "      <th>1</th>\n",
       "    </tr>\n",
       "  </thead>\n",
       "  <tbody>\n",
       "    <tr>\n",
       "      <th>0</th>\n",
       "      <td>3</td>\n",
       "      <td>2</td>\n",
       "    </tr>\n",
       "    <tr>\n",
       "      <th>1</th>\n",
       "      <td>5</td>\n",
       "      <td>3</td>\n",
       "    </tr>\n",
       "    <tr>\n",
       "      <th>2</th>\n",
       "      <td>4</td>\n",
       "      <td>4</td>\n",
       "    </tr>\n",
       "    <tr>\n",
       "      <th>3</th>\n",
       "      <td>6</td>\n",
       "      <td>2</td>\n",
       "    </tr>\n",
       "    <tr>\n",
       "      <th>4</th>\n",
       "      <td>1</td>\n",
       "      <td>1</td>\n",
       "    </tr>\n",
       "  </tbody>\n",
       "</table>\n",
       "</div>"
      ],
      "text/plain": [
       "   0  1\n",
       "0  3  2\n",
       "1  5  3\n",
       "2  4  4\n",
       "3  6  2\n",
       "4  1  1"
      ]
     },
     "execution_count": 6,
     "metadata": {},
     "output_type": "execute_result"
    }
   ],
   "source": [
    "#let's turn this into a dataframe so we can see our outcomes more clearly\n",
    "rolls =pd.DataFrame(rolls)\n",
    "\n",
    "#call our new dataframe\n",
    "rolls.head()"
   ]
  },
  {
   "cell_type": "code",
   "execution_count": 7,
   "id": "cc68466b",
   "metadata": {},
   "outputs": [
    {
     "data": {
      "text/plain": [
       "0.16445"
      ]
     },
     "execution_count": 7,
     "metadata": {},
     "output_type": "execute_result"
    }
   ],
   "source": [
    "#the average likelyhood that roll in index 0 will equal roll in index 1\n",
    "(rolls[0] == rolls[1]).mean()"
   ]
  },
  {
   "cell_type": "markdown",
   "id": "9b088bbb",
   "metadata": {},
   "source": [
    "<hr style=\"border:1.5px solid black\">"
   ]
  },
  {
   "cell_type": "markdown",
   "id": "7c17c4cb",
   "metadata": {},
   "source": [
    "### 2. If you flip 8 coins, what is the probability of getting exactly 3 heads? What is the probability of getting more than 3 heads?"
   ]
  },
  {
   "cell_type": "markdown",
   "id": "9fd4653c",
   "metadata": {},
   "source": [
    "#### Expected "
   ]
  },
  {
   "cell_type": "code",
   "execution_count": 8,
   "id": "1cc29db5",
   "metadata": {},
   "outputs": [
    {
     "data": {
      "text/plain": [
       "0.1875"
      ]
     },
     "execution_count": 8,
     "metadata": {},
     "output_type": "execute_result"
    }
   ],
   "source": [
    "3/16"
   ]
  },
  {
   "cell_type": "markdown",
   "id": "bed7c24b",
   "metadata": {},
   "source": [
    "#### Simulated"
   ]
  },
  {
   "cell_type": "code",
   "execution_count": 9,
   "id": "b4795ff9",
   "metadata": {},
   "outputs": [],
   "source": [
    "#number of coins\n",
    "n_coins = 8 \n",
    "\n",
    "#possible outcomes\n",
    "outcomes = ['H', 'T']"
   ]
  },
  {
   "cell_type": "code",
   "execution_count": 10,
   "id": "dfd7328b",
   "metadata": {},
   "outputs": [
    {
     "data": {
      "text/plain": [
       "array([['T', 'H', 'T', ..., 'H', 'T', 'T'],\n",
       "       ['T', 'H', 'T', ..., 'H', 'H', 'H'],\n",
       "       ['T', 'T', 'T', ..., 'H', 'T', 'T'],\n",
       "       ...,\n",
       "       ['T', 'T', 'H', ..., 'H', 'H', 'T'],\n",
       "       ['H', 'H', 'H', ..., 'T', 'H', 'T'],\n",
       "       ['T', 'H', 'H', ..., 'H', 'H', 'T']], dtype='<U1')"
      ]
     },
     "execution_count": 10,
     "metadata": {},
     "output_type": "execute_result"
    }
   ],
   "source": [
    "#us random choice to get the simulation\n",
    "coinflips = np.random.choice(outcomes, size=(n_simulations, n_coins))\n",
    "\n",
    "#call the variable\n",
    "coinflips"
   ]
  },
  {
   "cell_type": "code",
   "execution_count": 11,
   "id": "5d18cc9e",
   "metadata": {},
   "outputs": [
    {
     "data": {
      "text/plain": [
       "array([3, 4, 1, ..., 3, 4, 5])"
      ]
     },
     "execution_count": 11,
     "metadata": {},
     "output_type": "execute_result"
    }
   ],
   "source": [
    "#let's look at the possibility of the coinflip being Heads\n",
    "flips_by_sim = (coinflips == 'H').sum(axis=1)\n",
    "\n",
    "#call that variable\n",
    "flips_by_sim"
   ]
  },
  {
   "cell_type": "markdown",
   "id": "66822297",
   "metadata": {},
   "source": [
    "##### Landing on Heads exactly 3 times"
   ]
  },
  {
   "cell_type": "code",
   "execution_count": 12,
   "id": "9961ffe2",
   "metadata": {},
   "outputs": [
    {
     "data": {
      "text/plain": [
       "array([ True, False, False, ...,  True, False, False])"
      ]
     },
     "execution_count": 12,
     "metadata": {},
     "output_type": "execute_result"
    }
   ],
   "source": [
    "#what is the possibility of the flips being heads exactly 3 times\n",
    "flips_by_sim == 3"
   ]
  },
  {
   "cell_type": "code",
   "execution_count": 13,
   "id": "3bcfd68a",
   "metadata": {},
   "outputs": [
    {
     "data": {
      "text/plain": [
       "0.21747"
      ]
     },
     "execution_count": 13,
     "metadata": {},
     "output_type": "execute_result"
    }
   ],
   "source": [
    "#using data from above\n",
    "(flips_by_sim == 3).mean()"
   ]
  },
  {
   "cell_type": "markdown",
   "id": "06e7ee20",
   "metadata": {},
   "source": [
    "##### Landing on Heads more than 3 times"
   ]
  },
  {
   "cell_type": "code",
   "execution_count": 14,
   "id": "8d49c355",
   "metadata": {},
   "outputs": [
    {
     "data": {
      "text/plain": [
       "0.63597"
      ]
     },
     "execution_count": 14,
     "metadata": {},
     "output_type": "execute_result"
    }
   ],
   "source": [
    "calculated_prob=(flips_by_sim > 3).mean()\n",
    "calculated_prob"
   ]
  },
  {
   "cell_type": "markdown",
   "id": "9cca86b8",
   "metadata": {},
   "source": [
    "### 3 There are approximitely 3 web development cohorts for every 1 data science cohort at Codeup. Assuming that Codeup randomly selects an alumni to put on a billboard, what are the odds that the two billboards I drive past both have data science students on them?"
   ]
  },
  {
   "cell_type": "markdown",
   "id": "96b23731",
   "metadata": {},
   "source": [
    "##### First, let's look at this without imports and answer using probability\n",
    "- 3 webdev per 1 dS == 1/4 classes is DS == 25% of classes are DS\n",
    "- 2 billboards\n",
    "- odds of both having a data science student on it\n",
    "- 25% chance per billboard * 2 billboards = 1/8"
   ]
  },
  {
   "cell_type": "code",
   "execution_count": 15,
   "id": "7cba1a0d",
   "metadata": {},
   "outputs": [
    {
     "data": {
      "text/plain": [
       "0.0625"
      ]
     },
     "execution_count": 15,
     "metadata": {},
     "output_type": "execute_result"
    }
   ],
   "source": [
    "(1/4) * (1/4)"
   ]
  },
  {
   "cell_type": "code",
   "execution_count": 16,
   "id": "6729f993",
   "metadata": {},
   "outputs": [
    {
     "data": {
      "text/plain": [
       "0.0625"
      ]
     },
     "execution_count": 16,
     "metadata": {},
     "output_type": "execute_result"
    }
   ],
   "source": [
    "# theoretical prob\n",
    "0.25 * 0.25"
   ]
  },
  {
   "cell_type": "markdown",
   "id": "6100c2a6",
   "metadata": {},
   "source": [
    "##### Now, let's answer with simulation"
   ]
  },
  {
   "cell_type": "code",
   "execution_count": 17,
   "id": "d07cc6f8",
   "metadata": {},
   "outputs": [
    {
     "data": {
      "text/plain": [
       "array([['wd', 'wd'],\n",
       "       ['wd', 'ds'],\n",
       "       ['wd', 'wd'],\n",
       "       ...,\n",
       "       ['ds', 'wd'],\n",
       "       ['wd', 'wd'],\n",
       "       ['wd', 'wd']], dtype='<U2')"
      ]
     },
     "execution_count": 17,
     "metadata": {},
     "output_type": "execute_result"
    }
   ],
   "source": [
    "#possible outcomes with 4 classes\n",
    "outcomes = ['wd', 'wd', 'wd', 'ds']\n",
    "\n",
    "#number of billboards\n",
    "n_billboards = 2\n",
    "\n",
    "#using random choice, let's see what the outcomes will be\n",
    "billboards = np.random.choice(outcomes, size=(n_simulations, n_billboards))\n",
    "\n",
    "#call the variable\n",
    "billboards"
   ]
  },
  {
   "cell_type": "code",
   "execution_count": 18,
   "id": "fe6c5604",
   "metadata": {},
   "outputs": [
    {
     "data": {
      "text/plain": [
       "array([['wd', 'ds'],\n",
       "       ['wd', 'ds'],\n",
       "       ['ds', 'wd'],\n",
       "       ...,\n",
       "       ['wd', 'wd'],\n",
       "       ['wd', 'wd'],\n",
       "       ['ds', 'wd']], dtype='<U2')"
      ]
     },
     "execution_count": 18,
     "metadata": {},
     "output_type": "execute_result"
    }
   ],
   "source": [
    "# options\n",
    "outcomes = ['wd','ds']\n",
    "\n",
    "#using the probability of 1/4 classes being DS, and 3/4 classes being WD\n",
    "billboards = np.random.choice(outcomes, size=(n_simulations, n_billboards), \n",
    "                p=[0.75, 0.25])\n",
    "\n",
    "#let's see our outcomes\n",
    "billboards"
   ]
  },
  {
   "cell_type": "code",
   "execution_count": 19,
   "id": "90e77c8b",
   "metadata": {},
   "outputs": [
    {
     "data": {
      "text/plain": [
       "array([1, 1, 1, ..., 0, 0, 1])"
      ]
     },
     "execution_count": 19,
     "metadata": {},
     "output_type": "execute_result"
    }
   ],
   "source": [
    "#what are the possibilities that the billboard will be exactly data science\n",
    "(billboards == 'ds').sum(axis=1)"
   ]
  },
  {
   "cell_type": "code",
   "execution_count": 20,
   "id": "28124cd4",
   "metadata": {},
   "outputs": [
    {
     "data": {
      "text/plain": [
       "0.06301"
      ]
     },
     "execution_count": 20,
     "metadata": {},
     "output_type": "execute_result"
    }
   ],
   "source": [
    "#what is the probability that TWO billboards will be exactly data science\n",
    "probability = ((billboards == 'ds').sum(axis=1) == 2).mean()\n",
    "\n",
    "#call that variable\n",
    "probability"
   ]
  },
  {
   "cell_type": "markdown",
   "id": "c82a2907",
   "metadata": {},
   "source": [
    "### 4. Codeup students buy, on average, 3 poptart packages (+- 1.5) a day from the snack vending machine. If on monday the machine is restocked with 17 poptart packages, how likely is it that I will be able to buy some poptarts on Friday afternoon?"
   ]
  },
  {
   "cell_type": "markdown",
   "id": "c8444f88",
   "metadata": {},
   "source": [
    "##### Let's break this down"
   ]
  },
  {
   "cell_type": "markdown",
   "id": "a2ec2d68",
   "metadata": {},
   "source": [
    "- 1.5-4.5 puchases a day (average 3)\n",
    "- 17 packages every monday\n",
    "- probability to buy one on Friday\n",
    "- Mon:17 - (1.5-4.5) = 15.5-12.5 =day 1 prob = 100%\n",
    "- Tues: 15-12.5 - (1.5-4.5)= 13.5-8 = day 2 prob 100% \n",
    "- Wed:13.5-8 - (1.5-4.5)= 12-3.5 = day 3 prob 100%\n",
    "- Thurs: 12-3.5 - (1.5-4.5)= 10.5-(-1) = day 4, could have 10.5 or -1 left / 50% chance\n",
    "- Friday: 10.5 -(-1) - (1.5-4.5) = 9-(-5.5)= day 4, could have 9 or -5.5/ 50% chance"
   ]
  },
  {
   "cell_type": "markdown",
   "id": "934f6469",
   "metadata": {},
   "source": [
    "##### Now, let's use simulation"
   ]
  },
  {
   "cell_type": "code",
   "execution_count": 21,
   "id": "b227025c",
   "metadata": {},
   "outputs": [],
   "source": [
    "#  3 poptarts per 1.5\n",
    "poptart_mean = 3 \n",
    "daily_snack = 1.5\n",
    "\n",
    "number_of_days = 5\n",
    "n_simulation = 1_000_000"
   ]
  },
  {
   "cell_type": "code",
   "execution_count": 22,
   "id": "344d0a1b",
   "metadata": {},
   "outputs": [
    {
     "data": {
      "text/plain": [
       "array([[ 3.55368035e+00, -2.29858486e-03,  1.99914151e+00, ...,\n",
       "         2.80990411e+00, -6.91919254e-02,  3.06493094e+00],\n",
       "       [ 4.86527321e+00,  2.72225783e+00,  2.37657569e+00, ...,\n",
       "         1.87580398e+00,  4.85038068e+00,  2.52924230e+00],\n",
       "       [ 4.00524205e+00, -3.00737880e-02,  3.69060090e+00, ...,\n",
       "         2.18507278e+00,  5.34758079e+00,  3.42436083e+00],\n",
       "       [ 2.91699522e+00,  3.75774015e+00,  9.28265770e-01, ...,\n",
       "         2.86703488e+00,  4.54494774e+00,  2.32985451e+00],\n",
       "       [ 5.59692822e+00,  4.67808472e+00,  1.05355867e+00, ...,\n",
       "         2.80937404e+00,  5.49083877e+00,  1.77235983e+00]])"
      ]
     },
     "execution_count": 22,
     "metadata": {},
     "output_type": "execute_result"
    }
   ],
   "source": [
    "\n",
    "poptarts_bought_day = np.random.normal(poptart_mean, daily_snack, (number_of_days, n_simulation))\n",
    "\n",
    "poptarts_bought_day"
   ]
  },
  {
   "cell_type": "code",
   "execution_count": 23,
   "id": "fb4f0cc4",
   "metadata": {},
   "outputs": [
    {
     "data": {
      "text/plain": [
       "0.0"
      ]
     },
     "execution_count": 23,
     "metadata": {},
     "output_type": "execute_result"
    }
   ],
   "source": [
    "poptart_prob = (poptarts_bought_day.sum(axis=1) <16).mean()\n",
    "poptart_prob\n"
   ]
  },
  {
   "cell_type": "code",
   "execution_count": 24,
   "id": "1d5baa2d",
   "metadata": {},
   "outputs": [
    {
     "data": {
      "image/png": "[encoded data removed]",
      "text/plain": [
       "<Figure size 640x480 with 1 Axes>"
      ]
     },
     "metadata": {},
     "output_type": "display_data"
    }
   ],
   "source": [
    "#Histogram\n",
    "plt.hist(np.random.normal(3, 1.5, size = (10000),))\n",
    "plt.title('Distribution of Poptart Packages Purchased Each Day')\n",
    "plt.vlines(3, 0, 3000, color='black')\n",
    "plt.text(3.1, 3000, 'Mean')\n",
    "plt.vlines(4.5, 0, 3000, color='black', ls='--', alpha=0.5)\n",
    "plt.text(4.6, 3000, '1σ')\n",
    "plt.vlines(6.0, 0, 3000, color='black', ls='--', alpha=0.5)\n",
    "plt.text(6.1, 3000, '2σ')\n",
    "plt.vlines(1.5, 0, 3000, color='black', ls='--', alpha=0.5)\n",
    "plt.text(1.6, 3000, '-1σ')\n",
    "plt.vlines(0, 0, 3000, color='black', ls='--', alpha=0.5)\n",
    "plt.text(0.1, 3000, '-2σ')\n",
    "plt.ylabel('Count')\n",
    "plt.xlabel('Number of Packages Purchased')\n",
    "plt.show()"
   ]
  },
  {
   "cell_type": "code",
   "execution_count": 25,
   "id": "d61a63ec",
   "metadata": {},
   "outputs": [
    {
     "data": {
      "text/plain": [
       "array([2999631.20068223, 3002851.67900732, 3000533.14539955,\n",
       "       3000644.23870565, 3002040.96218001])"
      ]
     },
     "execution_count": 25,
     "metadata": {},
     "output_type": "execute_result"
    }
   ],
   "source": [
    "#see what are chances are that poptarts are bought per week\n",
    "poptarts_bought_per_week = poptarts_bought_day.sum(axis=1)\n",
    "\n",
    "#call that variable\n",
    "poptarts_bought_per_week"
   ]
  },
  {
   "cell_type": "markdown",
   "id": "c8c44e9e",
   "metadata": {},
   "source": [
    "### 5. Compare Heights\n",
    "- Men have an average height of 178 cm and standard deviation of 8cm.\n",
    "- Women have a mean of 170, sd = 6cm.\n",
    "- If a man and woman are chosen at random, P(woman taller than man)?"
   ]
  },
  {
   "cell_type": "code",
   "execution_count": 26,
   "id": "67c09233",
   "metadata": {},
   "outputs": [],
   "source": [
    "#men's average height in cm\n",
    "men_avg = 178\n",
    "#men's standard deviation in cm\n",
    "men_std = 8\n",
    "\n",
    "#women's average height in cm\n",
    "women_avg = 170\n",
    "#women's standard deviation in cm\n",
    "women_std = 6"
   ]
  },
  {
   "cell_type": "code",
   "execution_count": 27,
   "id": "1c280c52",
   "metadata": {},
   "outputs": [
    {
     "data": {
      "text/plain": [
       "array([177.51498221, 187.39668162, 172.25698965, ..., 171.29008432,\n",
       "       191.89993724, 191.36773774])"
      ]
     },
     "execution_count": 27,
     "metadata": {},
     "output_type": "execute_result"
    }
   ],
   "source": [
    "#men avg sim\n",
    "men = np.random.normal(178, 8, size = n_simulations)\n",
    "men"
   ]
  },
  {
   "cell_type": "code",
   "execution_count": 28,
   "id": "3706bdca",
   "metadata": {},
   "outputs": [
    {
     "data": {
      "text/plain": [
       "array([161.94206635, 174.03763825, 169.14952553, ..., 176.98688959,\n",
       "       160.94429401, 171.67167793])"
      ]
     },
     "execution_count": 28,
     "metadata": {},
     "output_type": "execute_result"
    }
   ],
   "source": [
    "#women avg sim\n",
    "women = np.random.normal(170, 6, size = n_simulations)\n",
    "women"
   ]
  },
  {
   "cell_type": "code",
   "execution_count": 29,
   "id": "a2fed250",
   "metadata": {},
   "outputs": [
    {
     "data": {
      "text/plain": [
       "0.21196"
      ]
     },
     "execution_count": 29,
     "metadata": {},
     "output_type": "execute_result"
    }
   ],
   "source": [
    "#probability that women are taller then men on average\n",
    "(women > men).mean()"
   ]
  },
  {
   "cell_type": "markdown",
   "id": "505c3c02",
   "metadata": {},
   "source": [
    "<hr style=\"border:1.5px solid black\">"
   ]
  },
  {
   "cell_type": "markdown",
   "id": "9548546c",
   "metadata": {},
   "source": [
    "### 6. When installing anaconda on a student's computer, there's a 1 in 250 chance that the download is corrupted and the installation fails.\n",
    "- What are the odds that after having 50 students download anaconda, no one has an installation issue? 100 students?\n",
    "- What is the probability that we observe an installation issue within the first 150 students that download anaconda?\n",
    "- How likely is it that 450 students all download anaconda without an issue?"
   ]
  },
  {
   "cell_type": "markdown",
   "id": "ac88430c",
   "metadata": {},
   "source": [
    "##### Let's break it down\n",
    "- prob_fail = 1/250\n",
    "- 50 students == 0 fails\n",
    "- 100 students == 0 fails\n",
    "- 150 students >= 1 fail\n",
    "- 450 students == 0 fails"
   ]
  },
  {
   "cell_type": "markdown",
   "id": "0e1e44b0",
   "metadata": {},
   "source": [
    "##### 50 installs with no issues"
   ]
  },
  {
   "cell_type": "code",
   "execution_count": 30,
   "id": "ff735ce3",
   "metadata": {},
   "outputs": [],
   "source": [
    "outcomes = ['S', 'F']\n",
    "\n",
    "number_of_students = 50"
   ]
  },
  {
   "cell_type": "code",
   "execution_count": 31,
   "id": "80e21358",
   "metadata": {},
   "outputs": [
    {
     "data": {
      "text/plain": [
       "array([[0.17995886, 0.90165261, 0.32672005, ..., 0.28890044, 0.19435392,\n",
       "        0.36153457],\n",
       "       [0.16113345, 0.95799405, 0.50568779, ..., 0.10211996, 0.51512226,\n",
       "        0.11418939],\n",
       "       [0.28105792, 0.18734989, 0.64289326, ..., 0.95435994, 0.96436237,\n",
       "        0.52202548],\n",
       "       ...,\n",
       "       [0.50105764, 0.24826598, 0.06739943, ..., 0.19491809, 0.63657016,\n",
       "        0.92751203],\n",
       "       [0.1343135 , 0.41085713, 0.45562835, ..., 0.09760602, 0.17787045,\n",
       "        0.47809364],\n",
       "       [0.79238402, 0.96419329, 0.17637725, ..., 0.52763449, 0.05017927,\n",
       "        0.52379889]])"
      ]
     },
     "execution_count": 31,
     "metadata": {},
     "output_type": "execute_result"
    }
   ],
   "source": [
    "downloads = np.random.random((n_simulations, number_of_students)) \n",
    "p = 1/250\n",
    "downloads"
   ]
  },
  {
   "cell_type": "code",
   "execution_count": 32,
   "id": "057da2ff",
   "metadata": {},
   "outputs": [],
   "source": [
    "\n",
    "failure = downloads < p"
   ]
  },
  {
   "cell_type": "code",
   "execution_count": 33,
   "id": "e7924a5e",
   "metadata": {},
   "outputs": [
    {
     "name": "stderr",
     "output_type": "stream",
     "text": [
      "/var/folders/0f/gkm6knzn3fscjt7dxlgc9k5h0000gn/T/ipykernel_15481/606381197.py:1: FutureWarning: elementwise comparison failed; returning scalar instead, but in the future will perform elementwise comparison\n",
      "  (downloads == 'S').sum(axis=1)\n"
     ]
    },
    {
     "ename": "AttributeError",
     "evalue": "'bool' object has no attribute 'sum'",
     "output_type": "error",
     "traceback": [
      "\u001b[0;31m---------------------------------------------------------------------------\u001b[0m",
      "\u001b[0;31mAttributeError\u001b[0m                            Traceback (most recent call last)",
      "Cell \u001b[0;32mIn[33], line 1\u001b[0m\n\u001b[0;32m----> 1\u001b[0m \u001b[43m(\u001b[49m\u001b[43mdownloads\u001b[49m\u001b[43m \u001b[49m\u001b[38;5;241;43m==\u001b[39;49m\u001b[43m \u001b[49m\u001b[38;5;124;43m'\u001b[39;49m\u001b[38;5;124;43mS\u001b[39;49m\u001b[38;5;124;43m'\u001b[39;49m\u001b[43m)\u001b[49m\u001b[38;5;241;43m.\u001b[39;49m\u001b[43msum\u001b[49m(axis\u001b[38;5;241m=\u001b[39m\u001b[38;5;241m1\u001b[39m)\n",
      "\u001b[0;31mAttributeError\u001b[0m: 'bool' object has no attribute 'sum'"
     ]
    }
   ],
   "source": [
    "(downloads == 'S').sum(axis=1)"
   ]
  },
  {
   "cell_type": "code",
   "execution_count": null,
   "id": "da614fb1",
   "metadata": {},
   "outputs": [],
   "source": [
    "(failure.sum(axis=1) == 0).mean()"
   ]
  },
  {
   "cell_type": "markdown",
   "id": "feffd51e",
   "metadata": {},
   "source": [
    "<hr style=\"border:0.5px solid black\">"
   ]
  },
  {
   "cell_type": "markdown",
   "id": "5f0666c7",
   "metadata": {},
   "source": [
    "##### 100 installs"
   ]
  },
  {
   "cell_type": "code",
   "execution_count": null,
   "id": "ddbefd1e",
   "metadata": {},
   "outputs": [],
   "source": [
    "outcomes = ['S', 'F']\n",
    "number_of_students = 100\n",
    "\n",
    "downloads = np.random.random((n_simulations, number_of_students)) \n",
    "p = 1/250\n",
    "downloads\n",
    "(downloads == 'S').sum(axis=1)\n",
    "failure = downloads < p\n",
    "(failure.sum(axis=1) == 0).mean()"
   ]
  },
  {
   "cell_type": "markdown",
   "id": "73a74957",
   "metadata": {},
   "source": [
    "<hr style=\"border:0.5px solid black\">"
   ]
  },
  {
   "cell_type": "markdown",
   "id": "ca7d2321",
   "metadata": {},
   "source": [
    "##### 150 installs at least 1 fail"
   ]
  },
  {
   "cell_type": "code",
   "execution_count": null,
   "id": "fe78eefb",
   "metadata": {},
   "outputs": [],
   "source": [
    "outcomes = ['S', 'F'] \n",
    "n_students = 150\n",
    "\n",
    "downloads = np.random.choice(outcomes, size=(n_simulations, n_students), \n",
    "                p = [249/250, 1/250])\n",
    "\n",
    "((downloads == 'S').sum(axis=1) < n_students).mean()"
   ]
  },
  {
   "cell_type": "markdown",
   "id": "7312b8ad",
   "metadata": {},
   "source": [
    "<hr style=\"border:0.5px solid black\">"
   ]
  },
  {
   "cell_type": "markdown",
   "id": "27bc664f",
   "metadata": {},
   "source": [
    "##### 450 installs"
   ]
  },
  {
   "cell_type": "code",
   "execution_count": null,
   "id": "03bb4520",
   "metadata": {},
   "outputs": [],
   "source": [
    "outcomes = ['S', 'F']\n",
    "n_students = 450\n",
    "\n",
    "downloads = np.random.choice(outcomes, size=(n_simulations, n_students), \n",
    "                p = [249/250, 1/250])\n",
    "\n",
    "((downloads == 'S').sum(axis=1) == n_students).mean()"
   ]
  },
  {
   "cell_type": "markdown",
   "id": "9796f514",
   "metadata": {},
   "source": [
    "<hr style=\"border:1px solid black\">"
   ]
  },
  {
   "cell_type": "markdown",
   "id": "236784f3",
   "metadata": {},
   "source": [
    "### 7. There's a 70% chance on any given day that there will be at least one food truck at Travis Park. However, you haven't seen a food truck there in 3 days. How unlikely is this?"
   ]
  },
  {
   "cell_type": "code",
   "execution_count": null,
   "id": "999d35f3",
   "metadata": {},
   "outputs": [],
   "source": [
    "n_days = 3"
   ]
  },
  {
   "cell_type": "code",
   "execution_count": null,
   "id": "a01d2aa9",
   "metadata": {},
   "outputs": [],
   "source": [
    "# 0 = no truck, 1 = truck shows up\n",
    "trucks = np.random.choice([0, 1], size = (n_simulations, n_days), p = [0.3, 0.7])\n",
    "\n",
    "#call the variable\n",
    "trucks"
   ]
  },
  {
   "cell_type": "markdown",
   "id": "8abca28c",
   "metadata": {},
   "source": [
    "##### probability that no truck shows up in 3 days"
   ]
  },
  {
   "cell_type": "code",
   "execution_count": null,
   "id": "6a2f476d",
   "metadata": {},
   "outputs": [],
   "source": [
    "#axis 1 is 0 (or no truck shows up)\n",
    "(trucks.sum(axis = 1) == 0).mean()"
   ]
  },
  {
   "cell_type": "markdown",
   "id": "e379c410",
   "metadata": {},
   "source": [
    "##### How likely is it that a food truck will show up sometime this week"
   ]
  },
  {
   "cell_type": "code",
   "execution_count": null,
   "id": "788b14f7",
   "metadata": {},
   "outputs": [],
   "source": [
    "#likelyhood that in axis 1 there is a 1 (or a truck DOES show up) one or more days\n",
    "(trucks.sum(axis = 1) >= 1).mean()"
   ]
  },
  {
   "cell_type": "markdown",
   "id": "2523b40a",
   "metadata": {},
   "source": [
    "<hr style=\"border:1px solid black\">"
   ]
  },
  {
   "cell_type": "markdown",
   "id": "b920ea80",
   "metadata": {},
   "source": [
    "### 8. If 23 people are in the same room, what are the odds that two of them share a birthday? What if it's 20 people? 40?\n"
   ]
  },
  {
   "cell_type": "markdown",
   "id": "2c406f38",
   "metadata": {},
   "source": [
    "Let's break it down:\n",
    "- 365 days in a year\n",
    "- what's the probability of same birthday"
   ]
  },
  {
   "cell_type": "markdown",
   "id": "13514040",
   "metadata": {},
   "source": [
    "#### 23 students in the class"
   ]
  },
  {
   "cell_type": "code",
   "execution_count": null,
   "id": "80ec2476",
   "metadata": {},
   "outputs": [],
   "source": [
    "#number of days in a year\n",
    "outcomes = range(0, 365) \n",
    "\n",
    "#number of students\n",
    "n_students= 23 "
   ]
  },
  {
   "cell_type": "code",
   "execution_count": null,
   "id": "150f9254",
   "metadata": {},
   "outputs": [],
   "source": [
    "#using random choice to get the possible birthdays\n",
    "birthdays= np.random.choice(outcomes, size=(n_simulations, n_students))\n",
    "\n",
    "#call that variable\n",
    "birthdays"
   ]
  },
  {
   "cell_type": "code",
   "execution_count": null,
   "id": "ec7ca991",
   "metadata": {},
   "outputs": [],
   "source": [
    "#turn it into a DF so it's easier to read\n",
    "birthdays = pd.DataFrame(birthdays)\n",
    "\n",
    "#call our new DF\n",
    "birthdays.head()"
   ]
  },
  {
   "cell_type": "code",
   "execution_count": null,
   "id": "d6958310",
   "metadata": {},
   "outputs": [],
   "source": [
    "#what are the chances that on average we will have a unique birthday\n",
    "(birthdays.nunique(axis=1) < 23).mean()"
   ]
  },
  {
   "cell_type": "markdown",
   "id": "9e992151",
   "metadata": {},
   "source": [
    "<hr style=\"border:0.5px solid black\">"
   ]
  },
  {
   "cell_type": "markdown",
   "id": "02ad2f25",
   "metadata": {},
   "source": [
    "#### 20 students per class"
   ]
  },
  {
   "cell_type": "code",
   "execution_count": null,
   "id": "53fd520e",
   "metadata": {},
   "outputs": [],
   "source": [
    "#number of days in a year\n",
    "outcomes = range(0, 365) \n",
    "\n",
    "#number of students\n",
    "n_students= 20 "
   ]
  },
  {
   "cell_type": "code",
   "execution_count": null,
   "id": "b6272a2a",
   "metadata": {},
   "outputs": [],
   "source": [
    "#let's see what the possibility of birhtdays is with 20 students\n",
    "birthdays= np.random.choice(outcomes, size=(n_simulations, n_students))\n",
    "\n",
    "#turn that into a DF\n",
    "birthdays = pd.DataFrame(birthdays)\n",
    "\n",
    "#call the DF\n",
    "birthdays"
   ]
  },
  {
   "cell_type": "code",
   "execution_count": null,
   "id": "cb936e94",
   "metadata": {},
   "outputs": [],
   "source": [
    "#get the probability\n",
    "(birthdays.nunique(axis=1) = n_students).mean()"
   ]
  },
  {
   "cell_type": "markdown",
   "id": "326bc901",
   "metadata": {},
   "source": [
    "<hr style=\"border:0.5px solid black\">"
   ]
  },
  {
   "cell_type": "markdown",
   "id": "853e9618",
   "metadata": {},
   "source": [
    "##### 40 students per class"
   ]
  },
  {
   "cell_type": "code",
   "execution_count": null,
   "id": "8a2b9eff",
   "metadata": {},
   "outputs": [],
   "source": [
    "#number of days in a year\n",
    "outcomes = range(0, 365) \n",
    "\n",
    "#number of students\n",
    "n_students = 40\n",
    "\n",
    "#let's see what the possibility of birhtdays is with 40 students\n",
    "birthdays = np.random.choice(outcomes, size=(n_simulations, n_students))\n",
    "\n",
    "#call the DF\n",
    "birthdays = pd.DataFrame(birthdays)\n",
    "birthdays"
   ]
  },
  {
   "cell_type": "code",
   "execution_count": null,
   "id": "6442a001",
   "metadata": {},
   "outputs": [],
   "source": [
    "#get the probability\n",
    "(birthdays.nunique(axis=1) < n_students).mean()"
   ]
  }
 ],
 "metadata": {
  "kernelspec": {
   "display_name": "Python 3 (ipykernel)",
   "language": "python",
   "name": "python3"
  },
  "language_info": {
   "codemirror_mode": {
    "name": "ipython",
    "version": 3
   },
   "file_extension": ".py",
   "mimetype": "text/x-python",
   "name": "python",
   "nbconvert_exporter": "python",
   "pygments_lexer": "ipython3",
   "version": "3.10.9"
  }
 },
 "nbformat": 4,
 "nbformat_minor": 5
}
