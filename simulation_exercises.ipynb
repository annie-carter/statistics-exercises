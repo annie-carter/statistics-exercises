{
 "cells": [
  {
   "cell_type": "markdown",
   "id": "1b580b56",
   "metadata": {},
   "source": [
    "# Simulations"
   ]
  },
  {
   "cell_type": "code",
   "execution_count": 1,
   "id": "c4898a34",
   "metadata": {},
   "outputs": [],
   "source": [
    "#imports\n",
    "import numpy as np\n",
    "import pandas as pd\n",
    "import matplotlib.pyplot as plt"
   ]
  },
  {
   "cell_type": "code",
   "execution_count": 2,
   "id": "29e8d395",
   "metadata": {},
   "outputs": [],
   "source": [
    "#can use any random seed- lets preset this\n",
    "np.random.seed(1349) \n",
    "\n",
    "#preset the number of simulations we'll have\n",
    "n_simulations =100_000"
   ]
  },
  {
   "cell_type": "markdown",
   "id": "74baf062",
   "metadata": {},
   "source": [
    "<hr style=\"border:2px solid gray\">"
   ]
  },
  {
   "cell_type": "markdown",
   "id": "33328294",
   "metadata": {},
   "source": [
    "### 1. How likely is it that you roll doubles when rolling two dice?\n",
    "#### Expected?"
   ]
  },
  {
   "cell_type": "code",
   "execution_count": 3,
   "id": "d5e0e4ab",
   "metadata": {},
   "outputs": [
    {
     "data": {
      "text/plain": [
       "0.16666666666666666"
      ]
     },
     "execution_count": 3,
     "metadata": {},
     "output_type": "execute_result"
    }
   ],
   "source": [
    "# Expected probability\n",
    "2/12"
   ]
  },
  {
   "cell_type": "markdown",
   "id": "a74eb672",
   "metadata": {},
   "source": [
    "#### Simulate!"
   ]
  },
  {
   "cell_type": "code",
   "execution_count": 8,
   "id": "3435c691",
   "metadata": {},
   "outputs": [],
   "source": [
    "#number of dice\n",
    "number_of_dice = 2 \n",
    "outcomes = [1,2,3,4,5,6]"
   ]
  },
  {
   "cell_type": "code",
   "execution_count": 9,
   "id": "25d1bfcb",
   "metadata": {},
   "outputs": [
    {
     "data": {
      "text/plain": [
       "array([[3, 2],\n",
       "       [5, 3],\n",
       "       [4, 4],\n",
       "       ...,\n",
       "       [3, 5],\n",
       "       [2, 4],\n",
       "       [4, 5]])"
      ]
     },
     "execution_count": 9,
     "metadata": {},
     "output_type": "execute_result"
    }
   ],
   "source": [
    "rolls = np.random.choice(outcomes, size=(n_simulations, number_of_dice))\n",
    "rolls"
   ]
  },
  {
   "cell_type": "code",
   "execution_count": 10,
   "id": "1c9e3ca1",
   "metadata": {},
   "outputs": [
    {
     "data": {
      "text/html": [
       "<div>\n",
       "<style scoped>\n",
       "    .dataframe tbody tr th:only-of-type {\n",
       "        vertical-align: middle;\n",
       "    }\n",
       "\n",
       "    .dataframe tbody tr th {\n",
       "        vertical-align: top;\n",
       "    }\n",
       "\n",
       "    .dataframe thead th {\n",
       "        text-align: right;\n",
       "    }\n",
       "</style>\n",
       "<table border=\"1\" class=\"dataframe\">\n",
       "  <thead>\n",
       "    <tr style=\"text-align: right;\">\n",
       "      <th></th>\n",
       "      <th>0</th>\n",
       "      <th>1</th>\n",
       "    </tr>\n",
       "  </thead>\n",
       "  <tbody>\n",
       "    <tr>\n",
       "      <th>0</th>\n",
       "      <td>3</td>\n",
       "      <td>2</td>\n",
       "    </tr>\n",
       "    <tr>\n",
       "      <th>1</th>\n",
       "      <td>5</td>\n",
       "      <td>3</td>\n",
       "    </tr>\n",
       "    <tr>\n",
       "      <th>2</th>\n",
       "      <td>4</td>\n",
       "      <td>4</td>\n",
       "    </tr>\n",
       "    <tr>\n",
       "      <th>3</th>\n",
       "      <td>6</td>\n",
       "      <td>2</td>\n",
       "    </tr>\n",
       "    <tr>\n",
       "      <th>4</th>\n",
       "      <td>1</td>\n",
       "      <td>1</td>\n",
       "    </tr>\n",
       "  </tbody>\n",
       "</table>\n",
       "</div>"
      ],
      "text/plain": [
       "   0  1\n",
       "0  3  2\n",
       "1  5  3\n",
       "2  4  4\n",
       "3  6  2\n",
       "4  1  1"
      ]
     },
     "execution_count": 10,
     "metadata": {},
     "output_type": "execute_result"
    }
   ],
   "source": [
    "#let's turn this into a dataframe so we can see our outcomes more clearly\n",
    "rolls =pd.DataFrame(rolls)\n",
    "\n",
    "#call our new dataframe\n",
    "rolls.head()"
   ]
  },
  {
   "cell_type": "code",
   "execution_count": 11,
   "id": "cc68466b",
   "metadata": {},
   "outputs": [
    {
     "data": {
      "text/plain": [
       "0.16445"
      ]
     },
     "execution_count": 11,
     "metadata": {},
     "output_type": "execute_result"
    }
   ],
   "source": [
    "#the average likelyhood that roll in index 0 will equal roll in index 1\n",
    "(rolls[0] == rolls[1]).mean()"
   ]
  },
  {
   "cell_type": "markdown",
   "id": "9b088bbb",
   "metadata": {},
   "source": [
    "<hr style=\"border:1.5px solid black\">"
   ]
  },
  {
   "cell_type": "markdown",
   "id": "7c17c4cb",
   "metadata": {},
   "source": [
    "### 2. If you flip 8 coins, what is the probability of getting exactly 3 heads? What is the probability of getting more than 3 heads?"
   ]
  },
  {
   "cell_type": "markdown",
   "id": "9fd4653c",
   "metadata": {},
   "source": [
    "#### Expected "
   ]
  },
  {
   "cell_type": "code",
   "execution_count": 22,
   "id": "1cc29db5",
   "metadata": {},
   "outputs": [
    {
     "data": {
      "text/plain": [
       "0.1875"
      ]
     },
     "execution_count": 22,
     "metadata": {},
     "output_type": "execute_result"
    }
   ],
   "source": [
    "3/16"
   ]
  },
  {
   "cell_type": "markdown",
   "id": "bed7c24b",
   "metadata": {},
   "source": [
    "#### Simulated"
   ]
  },
  {
   "cell_type": "code",
   "execution_count": 14,
   "id": "b4795ff9",
   "metadata": {},
   "outputs": [],
   "source": [
    "#number of coins\n",
    "n_coins = 8 \n",
    "\n",
    "#possible outcomes\n",
    "outcomes = ['H', 'T']"
   ]
  },
  {
   "cell_type": "code",
   "execution_count": 15,
   "id": "dfd7328b",
   "metadata": {},
   "outputs": [
    {
     "data": {
      "text/plain": [
       "array([['T', 'H', 'T', ..., 'H', 'T', 'T'],\n",
       "       ['T', 'H', 'T', ..., 'H', 'H', 'H'],\n",
       "       ['T', 'T', 'T', ..., 'H', 'T', 'T'],\n",
       "       ...,\n",
       "       ['T', 'T', 'H', ..., 'H', 'H', 'T'],\n",
       "       ['H', 'H', 'H', ..., 'T', 'H', 'T'],\n",
       "       ['T', 'H', 'H', ..., 'H', 'H', 'T']], dtype='<U1')"
      ]
     },
     "execution_count": 15,
     "metadata": {},
     "output_type": "execute_result"
    }
   ],
   "source": [
    "#us random choice to get the simulation\n",
    "coinflips = np.random.choice(outcomes, size=(n_simulations, n_coins))\n",
    "\n",
    "#call the variable\n",
    "coinflips"
   ]
  },
  {
   "cell_type": "code",
   "execution_count": 16,
   "id": "5d18cc9e",
   "metadata": {},
   "outputs": [
    {
     "data": {
      "text/plain": [
       "array([3, 4, 1, ..., 3, 4, 5])"
      ]
     },
     "execution_count": 16,
     "metadata": {},
     "output_type": "execute_result"
    }
   ],
   "source": [
    "#let's look at the possibility of the coinflip being Heads\n",
    "flips_by_sim = (coinflips == 'H').sum(axis=1)\n",
    "\n",
    "#call that variable\n",
    "flips_by_sim"
   ]
  },
  {
   "cell_type": "markdown",
   "id": "66822297",
   "metadata": {},
   "source": [
    "##### Landing on Heads exactly 3 times"
   ]
  },
  {
   "cell_type": "code",
   "execution_count": 17,
   "id": "9961ffe2",
   "metadata": {},
   "outputs": [
    {
     "data": {
      "text/plain": [
       "array([ True, False, False, ...,  True, False, False])"
      ]
     },
     "execution_count": 17,
     "metadata": {},
     "output_type": "execute_result"
    }
   ],
   "source": [
    "#what is the possibility of the flips being heads exactly 3 times\n",
    "flips_by_sim == 3"
   ]
  },
  {
   "cell_type": "markdown",
   "id": "06e7ee20",
   "metadata": {},
   "source": [
    "##### Landing on Heads more than 3 times"
   ]
  },
  {
   "cell_type": "code",
   "execution_count": 18,
   "id": "3bcfd68a",
   "metadata": {},
   "outputs": [
    {
     "data": {
      "text/plain": [
       "0.21747"
      ]
     },
     "execution_count": 18,
     "metadata": {},
     "output_type": "execute_result"
    }
   ],
   "source": [
    "#using data from above\n",
    "(flips_by_sim == 3).mean()"
   ]
  },
  {
   "cell_type": "code",
   "execution_count": 21,
   "id": "07cc259c",
   "metadata": {},
   "outputs": [
    {
     "data": {
      "text/plain": [
       "0.21848"
      ]
     },
     "execution_count": 21,
     "metadata": {},
     "output_type": "execute_result"
    }
   ],
   "source": [
    "#completely redone\n",
    "outcomes = ['H','T']\n",
    "n_coins = 8\n",
    "\n",
    "coinflips = np.random.choice(outcomes, size=(n_simulations, n_coins))\n",
    "flips_by_sim = (coinflips == 'H').sum(axis=1)\n",
    "(flips_by_sim == 3).mean()"
   ]
  },
  {
   "cell_type": "markdown",
   "id": "512c42b8",
   "metadata": {},
   "source": [
    "<hr style=\"border:1.5px solid black\">"
   ]
  },
  {
   "cell_type": "markdown",
   "id": "9cca86b8",
   "metadata": {},
   "source": [
    "### 3 There are approximitely 3 web development cohorts for every 1 data science cohort at Codeup. Assuming that Codeup randomly selects an alumni to put on a billboard, what are the odds that the two billboards I drive past both have data science students on them?"
   ]
  },
  {
   "cell_type": "markdown",
   "id": "96b23731",
   "metadata": {},
   "source": [
    "##### First, let's look at this without imports and answer using probability\n",
    "- 3 webdev per 1 dS == 1/4 classes is DS == 25% of classes are DS\n",
    "- 2 billboards\n",
    "- odds of both having a data science student on it\n",
    "- 25% chance per billboard * 2 billboards = 1/8"
   ]
  },
  {
   "cell_type": "code",
   "execution_count": 23,
   "id": "7cba1a0d",
   "metadata": {},
   "outputs": [
    {
     "data": {
      "text/plain": [
       "0.0625"
      ]
     },
     "execution_count": 23,
     "metadata": {},
     "output_type": "execute_result"
    }
   ],
   "source": [
    "(1/4) * (1/4)"
   ]
  },
  {
   "cell_type": "code",
   "execution_count": 66,
   "id": "6729f993",
   "metadata": {},
   "outputs": [
    {
     "data": {
      "text/plain": [
       "0.0625"
      ]
     },
     "execution_count": 66,
     "metadata": {},
     "output_type": "execute_result"
    }
   ],
   "source": [
    "# theoretical prob\n",
    "0.25 * 0.25"
   ]
  },
  {
   "cell_type": "markdown",
   "id": "6100c2a6",
   "metadata": {},
   "source": [
    "##### Now, let's answer with simulation"
   ]
  },
  {
   "cell_type": "code",
   "execution_count": 62,
   "id": "d07cc6f8",
   "metadata": {},
   "outputs": [
    {
     "data": {
      "text/plain": [
       "array([['wd', 'ds'],\n",
       "       ['wd', 'wd'],\n",
       "       ['wd', 'wd'],\n",
       "       ...,\n",
       "       ['wd', 'ds'],\n",
       "       ['ds', 'wd'],\n",
       "       ['wd', 'ds']], dtype='<U2')"
      ]
     },
     "execution_count": 62,
     "metadata": {},
     "output_type": "execute_result"
    }
   ],
   "source": [
    "#possible outcomes with 4 classes\n",
    "outcomes = ['wd', 'wd', 'wd', 'ds']\n",
    "\n",
    "#number of billboards\n",
    "n_billboards = 2\n",
    "\n",
    "#using random choice, let's see what the outcomes will be\n",
    "billboards = np.random.choice(outcomes, size=(n_simulations, n_billboards))\n",
    "\n",
    "#call the variable\n",
    "billboards"
   ]
  },
  {
   "cell_type": "code",
   "execution_count": 25,
   "id": "fe6c5604",
   "metadata": {},
   "outputs": [
    {
     "data": {
      "text/plain": [
       "array([['wd', 'wd'],\n",
       "       ['wd', 'wd'],\n",
       "       ['wd', 'wd'],\n",
       "       ...,\n",
       "       ['wd', 'wd'],\n",
       "       ['ds', 'ds'],\n",
       "       ['wd', 'wd']], dtype='<U2')"
      ]
     },
     "execution_count": 25,
     "metadata": {},
     "output_type": "execute_result"
    }
   ],
   "source": [
    "# our only options are...\n",
    "outcomes = ['wd','ds']\n",
    "\n",
    "#using the probability of 1/4 classes being DS, and 3/4 classes being WD\n",
    "billboards = np.random.choice(outcomes, size=(n_simulations, n_billboards), \n",
    "                p=[0.75, 0.25])\n",
    "\n",
    "#let's see our outcomes\n",
    "billboards"
   ]
  },
  {
   "cell_type": "code",
   "execution_count": 26,
   "id": "90e77c8b",
   "metadata": {},
   "outputs": [
    {
     "data": {
      "text/plain": [
       "array([0, 0, 0, ..., 0, 2, 0])"
      ]
     },
     "execution_count": 26,
     "metadata": {},
     "output_type": "execute_result"
    }
   ],
   "source": [
    "#what are the possibilities that the billboard will be exactly data science\n",
    "(billboards == 'ds').sum(axis=1)"
   ]
  },
  {
   "cell_type": "code",
   "execution_count": 63,
   "id": "28124cd4",
   "metadata": {},
   "outputs": [
    {
     "data": {
      "text/plain": [
       "0.06222"
      ]
     },
     "execution_count": 63,
     "metadata": {},
     "output_type": "execute_result"
    }
   ],
   "source": [
    "#what is the probability that TWO billboards will be exactly data science\n",
    "probability = ((billboards == 'ds').sum(axis=1) == 2).mean()\n",
    "\n",
    "#call that variable\n",
    "probability"
   ]
  },
  {
   "cell_type": "markdown",
   "id": "94ed38b6",
   "metadata": {},
   "source": [
    "##### Converting from probability to odds:"
   ]
  },
  {
   "cell_type": "code",
   "execution_count": 64,
   "id": "349ca6ab",
   "metadata": {},
   "outputs": [
    {
     "data": {
      "text/plain": [
       "0.9377800000000001"
      ]
     },
     "execution_count": 64,
     "metadata": {},
     "output_type": "execute_result"
    }
   ],
   "source": [
    "# Probability of seeing anything else\n",
    "1- probability"
   ]
  },
  {
   "cell_type": "code",
   "execution_count": 65,
   "id": "316176e2",
   "metadata": {},
   "outputs": [
    {
     "data": {
      "text/plain": [
       "0.06665528901025056"
      ]
     },
     "execution_count": 65,
     "metadata": {},
     "output_type": "execute_result"
    }
   ],
   "source": [
    "#odds of seeing a billboard that is not WD\n",
    "odds = prob/(1-prob)\n",
    "odds"
   ]
  },
  {
   "cell_type": "markdown",
   "id": "71cac8e7",
   "metadata": {},
   "source": [
    "<hr style=\"border:1.5px solid black\">"
   ]
  },
  {
   "cell_type": "markdown",
   "id": "c82a2907",
   "metadata": {},
   "source": [
    "### 4. Codeup students buy, on average, 3 poptart packages (+- 1.5) a day from the snack vending machine. If on monday the machine is restocked with 17 poptart packages, how likely is it that I will be able to buy some poptarts on Friday afternoon?"
   ]
  },
  {
   "cell_type": "markdown",
   "id": "c8444f88",
   "metadata": {},
   "source": [
    "##### Let's break this down"
   ]
  },
  {
   "cell_type": "markdown",
   "id": "a2ec2d68",
   "metadata": {},
   "source": [
    "- 1.5-4.5 puchases a day (average 3)\n",
    "- 17 packages every monday\n",
    "- probability to buy one on Friday\n",
    "- Mon:17 - (1.5-4.5) = 15.5-12.5 =day 1 prob = 100%\n",
    "- Tues: 15-12.5 - (1.5-4.5)= 13.5-8 = day 2 prob 100% \n",
    "- Wed:13.5-8 - (1.5-4.5)= 12-3.5 = day 3 prob 100%\n",
    "- Thurs: 12-3.5 - (1.5-4.5)= 10.5-(-1) = day 4, could have 10.5 or -1 left / 50% chance\n",
    "- Friday: 10.5 -(-1) - (1.5-4.5) = 9-(-5.5)= day 4, could have 9 or -5.5/ 50% chance"
   ]
  },
  {
   "cell_type": "markdown",
   "id": "934f6469",
   "metadata": {},
   "source": [
    "##### Now, let's use simulation"
   ]
  },
  {
   "cell_type": "code",
   "execution_count": 68,
   "id": "b227025c",
   "metadata": {},
   "outputs": [],
   "source": [
    "#  3 poptarts per 1.5\n",
    "mean = 3 \n",
    "daily_snack = 1.5\n",
    "\n",
    "number_of_days = 5"
   ]
  },
  {
   "cell_type": "code",
   "execution_count": 72,
   "id": "344d0a1b",
   "metadata": {},
   "outputs": [
    {
     "data": {
      "text/plain": [
       "array([6.45675137, 2.42458795, 3.3278966 , 2.14820293, 2.18566272])"
      ]
     },
     "execution_count": 72,
     "metadata": {},
     "output_type": "execute_result"
    }
   ],
   "source": [
    "#let's use random normal becuase we have the mean and sd already\n",
    "#see what are chances are that poptarts are bought that day\n",
    "poptarts_bought_day = np.random.normal(mean, daily_snack, size=(number_of_days))\n",
    "\n",
    "#take a look at what we get\n",
    "poptarts_bought_day"
   ]
  },
  {
   "cell_type": "code",
   "execution_count": null,
   "id": "1d5baa2d",
   "metadata": {},
   "outputs": [],
   "source": [
    "#we can visualize these popart daily purchases if we want to\n",
    "plt.hist(np.random.normal(3, 1.5, size = (10000)))\n",
    "plt.title('Distribution of Poptart Packages Purchased Each Day')\n",
    "plt.vlines(3, 0, 3000, color='black')\n",
    "plt.text(3.1, 3000, 'Mean')\n",
    "plt.vlines(4.5, 0, 3000, color='black', ls='--', alpha=0.5)\n",
    "plt.text(4.6, 3000, '1σ')\n",
    "plt.vlines(6.0, 0, 3000, color='black', ls='--', alpha=0.5)\n",
    "plt.text(6.1, 3000, '2σ')\n",
    "plt.vlines(1.5, 0, 3000, color='black', ls='--', alpha=0.5)\n",
    "plt.text(1.6, 3000, '-1σ')\n",
    "plt.vlines(0, 0, 3000, color='black', ls='--', alpha=0.5)\n",
    "plt.text(0.1, 3000, '-2σ')\n",
    "plt.ylabel('Count')\n",
    "plt.xlabel('Number of Packages Purchased')\n",
    "plt.show()"
   ]
  },
  {
   "cell_type": "code",
   "execution_count": 73,
   "id": "d61a63ec",
   "metadata": {},
   "outputs": [
    {
     "ename": "AxisError",
     "evalue": "axis 1 is out of bounds for array of dimension 1",
     "output_type": "error",
     "traceback": [
      "\u001b[0;31m---------------------------------------------------------------------------\u001b[0m",
      "\u001b[0;31mAxisError\u001b[0m                                 Traceback (most recent call last)",
      "Cell \u001b[0;32mIn[73], line 2\u001b[0m\n\u001b[1;32m      1\u001b[0m \u001b[38;5;66;03m#see what are chances are that poptarts are bought per week\u001b[39;00m\n\u001b[0;32m----> 2\u001b[0m poptarts_bought_per_week \u001b[38;5;241m=\u001b[39m \u001b[43mpoptarts_bought_day\u001b[49m\u001b[38;5;241;43m.\u001b[39;49m\u001b[43msum\u001b[49m\u001b[43m(\u001b[49m\u001b[43maxis\u001b[49m\u001b[38;5;241;43m=\u001b[39;49m\u001b[38;5;241;43m1\u001b[39;49m\u001b[43m)\u001b[49m\n\u001b[1;32m      4\u001b[0m \u001b[38;5;66;03m#call that variable\u001b[39;00m\n\u001b[1;32m      5\u001b[0m poptarts_bought_per_week\n",
      "File \u001b[0;32m/opt/homebrew/anaconda3/lib/python3.10/site-packages/numpy/core/_methods.py:48\u001b[0m, in \u001b[0;36m_sum\u001b[0;34m(a, axis, dtype, out, keepdims, initial, where)\u001b[0m\n\u001b[1;32m     46\u001b[0m \u001b[38;5;28;01mdef\u001b[39;00m \u001b[38;5;21m_sum\u001b[39m(a, axis\u001b[38;5;241m=\u001b[39m\u001b[38;5;28;01mNone\u001b[39;00m, dtype\u001b[38;5;241m=\u001b[39m\u001b[38;5;28;01mNone\u001b[39;00m, out\u001b[38;5;241m=\u001b[39m\u001b[38;5;28;01mNone\u001b[39;00m, keepdims\u001b[38;5;241m=\u001b[39m\u001b[38;5;28;01mFalse\u001b[39;00m,\n\u001b[1;32m     47\u001b[0m          initial\u001b[38;5;241m=\u001b[39m_NoValue, where\u001b[38;5;241m=\u001b[39m\u001b[38;5;28;01mTrue\u001b[39;00m):\n\u001b[0;32m---> 48\u001b[0m     \u001b[38;5;28;01mreturn\u001b[39;00m \u001b[43mumr_sum\u001b[49m\u001b[43m(\u001b[49m\u001b[43ma\u001b[49m\u001b[43m,\u001b[49m\u001b[43m \u001b[49m\u001b[43maxis\u001b[49m\u001b[43m,\u001b[49m\u001b[43m \u001b[49m\u001b[43mdtype\u001b[49m\u001b[43m,\u001b[49m\u001b[43m \u001b[49m\u001b[43mout\u001b[49m\u001b[43m,\u001b[49m\u001b[43m \u001b[49m\u001b[43mkeepdims\u001b[49m\u001b[43m,\u001b[49m\u001b[43m \u001b[49m\u001b[43minitial\u001b[49m\u001b[43m,\u001b[49m\u001b[43m \u001b[49m\u001b[43mwhere\u001b[49m\u001b[43m)\u001b[49m\n",
      "\u001b[0;31mAxisError\u001b[0m: axis 1 is out of bounds for array of dimension 1"
     ]
    }
   ],
   "source": [
    "#see what are chances are that poptarts are bought per week\n",
    "poptarts_bought_per_week = poptarts_bought_day.sum(axis=1)\n",
    "\n",
    "#call that variable\n",
    "poptarts_bought_per_week"
   ]
  },
  {
   "cell_type": "code",
   "execution_count": null,
   "id": "b41ca6c3",
   "metadata": {},
   "outputs": [],
   "source": [
    "#probability that less than 17 poptarts are bought that week\n",
    "(poptarts_bought_per_week <= 16).mean()"
   ]
  },
  {
   "cell_type": "markdown",
   "id": "c28e6931",
   "metadata": {},
   "source": [
    "<hr style=\"border:1.5px solid black\">"
   ]
  },
  {
   "cell_type": "markdown",
   "id": "c8c44e9e",
   "metadata": {},
   "source": [
    "### 5. Compare Heights\n",
    "- Men have an average height of 178 cm and standard deviation of 8cm.\n",
    "- Women have a mean of 170, sd = 6cm.\n",
    "- If a man and woman are chosen at random, P(woman taller than man)?"
   ]
  },
  {
   "cell_type": "code",
   "execution_count": 34,
   "id": "67c09233",
   "metadata": {},
   "outputs": [],
   "source": [
    "#men's average height in cm\n",
    "men_avg = 178\n",
    "#men's standard deviation in cm\n",
    "men_std = 8\n",
    "\n",
    "#women's average height in cm\n",
    "women_avg = 170\n",
    "#women's standard deviation in cm\n",
    "women_std = 6"
   ]
  },
  {
   "cell_type": "code",
   "execution_count": 38,
   "id": "1c280c52",
   "metadata": {},
   "outputs": [
    {
     "data": {
      "text/plain": [
       "array([181.30494255, 178.67652296, 173.77270595, ..., 174.86483176,\n",
       "       170.16563794, 186.77891105])"
      ]
     },
     "execution_count": 38,
     "metadata": {},
     "output_type": "execute_result"
    }
   ],
   "source": [
    "#men avg sim\n",
    "men = np.random.normal(178, 8, size = n_simulations)\n",
    "men"
   ]
  },
  {
   "cell_type": "code",
   "execution_count": 39,
   "id": "3706bdca",
   "metadata": {},
   "outputs": [
    {
     "data": {
      "text/plain": [
       "array([165.84128909, 179.76583246, 156.73865439, ..., 164.82203397,\n",
       "       171.90800698, 169.96102568])"
      ]
     },
     "execution_count": 39,
     "metadata": {},
     "output_type": "execute_result"
    }
   ],
   "source": [
    "#women avg sim\n",
    "women = np.random.normal(170, 6, size = n_simulations)\n",
    "women"
   ]
  },
  {
   "cell_type": "code",
   "execution_count": 77,
   "id": "a2fed250",
   "metadata": {},
   "outputs": [
    {
     "data": {
      "text/plain": [
       "0.21187"
      ]
     },
     "execution_count": 77,
     "metadata": {},
     "output_type": "execute_result"
    }
   ],
   "source": [
    "#probability that women are taller then men on average\n",
    "(women > men).mean()"
   ]
  },
  {
   "cell_type": "markdown",
   "id": "505c3c02",
   "metadata": {},
   "source": [
    "<hr style=\"border:1.5px solid black\">"
   ]
  },
  {
   "cell_type": "markdown",
   "id": "9548546c",
   "metadata": {},
   "source": [
    "### 6. When installing anaconda on a student's computer, there's a 1 in 250 chance that the download is corrupted and the installation fails.\n",
    "- What are the odds that after having 50 students download anaconda, no one has an installation issue? 100 students?\n",
    "- What is the probability that we observe an installation issue within the first 150 students that download anaconda?\n",
    "- How likely is it that 450 students all download anaconda without an issue?"
   ]
  },
  {
   "cell_type": "markdown",
   "id": "ac88430c",
   "metadata": {},
   "source": [
    "##### Let's break it down\n",
    "- prob_fail = 1/250\n",
    "- 50 students == 0 fails\n",
    "- 100 students == 0 fails\n",
    "- 150 students >= 1 fail\n",
    "- 450 students == 0 fails"
   ]
  },
  {
   "cell_type": "markdown",
   "id": "0e1e44b0",
   "metadata": {},
   "source": [
    "##### 50 installs with no issues"
   ]
  },
  {
   "cell_type": "code",
   "execution_count": 78,
   "id": "ff735ce3",
   "metadata": {},
   "outputs": [],
   "source": [
    "outcomes = ['S', 'F']\n",
    "\n",
    "number_of_students = 50"
   ]
  },
  {
   "cell_type": "code",
   "execution_count": 92,
   "id": "80e21358",
   "metadata": {},
   "outputs": [
    {
     "data": {
      "text/plain": [
       "array([[0.52345138, 0.03077982, 0.2613347 , ..., 0.24818141, 0.17705971,\n",
       "        0.78900088],\n",
       "       [0.45584809, 0.77003348, 0.52528605, ..., 0.46514095, 0.84201336,\n",
       "        0.60021125],\n",
       "       [0.40628104, 0.95790566, 0.87141532, ..., 0.545892  , 0.46030235,\n",
       "        0.4008099 ],\n",
       "       ...,\n",
       "       [0.07349499, 0.74510922, 0.13432688, ..., 0.29016113, 0.39627559,\n",
       "        0.38992984],\n",
       "       [0.20703787, 0.6947583 , 0.87245435, ..., 0.42736372, 0.49593723,\n",
       "        0.30045504],\n",
       "       [0.84243199, 0.42543965, 0.6277653 , ..., 0.44415875, 0.76757581,\n",
       "        0.01055467]])"
      ]
     },
     "execution_count": 92,
     "metadata": {},
     "output_type": "execute_result"
    }
   ],
   "source": [
    "downloads = np.random.random((n_simulations, number_of_students)) \n",
    "p = 1/250\n",
    "downloads"
   ]
  },
  {
   "cell_type": "code",
   "execution_count": 93,
   "id": "057da2ff",
   "metadata": {},
   "outputs": [],
   "source": [
    "failure = downloads < p"
   ]
  },
  {
   "cell_type": "code",
   "execution_count": 80,
   "id": "e7924a5e",
   "metadata": {},
   "outputs": [
    {
     "data": {
      "text/plain": [
       "array([19, 19, 20, ..., 20, 20, 20])"
      ]
     },
     "execution_count": 80,
     "metadata": {},
     "output_type": "execute_result"
    }
   ],
   "source": [
    "(downloads == 'S').sum(axis=1)"
   ]
  },
  {
   "cell_type": "code",
   "execution_count": 97,
   "id": "da614fb1",
   "metadata": {},
   "outputs": [
    {
     "data": {
      "text/plain": [
       "0.81844"
      ]
     },
     "execution_count": 97,
     "metadata": {},
     "output_type": "execute_result"
    }
   ],
   "source": [
    "(failure.sum(axis=1) == 0).mean()"
   ]
  },
  {
   "cell_type": "markdown",
   "id": "feffd51e",
   "metadata": {},
   "source": [
    "<hr style=\"border:0.5px solid black\">"
   ]
  },
  {
   "cell_type": "markdown",
   "id": "5f0666c7",
   "metadata": {},
   "source": [
    "##### 100 installs"
   ]
  },
  {
   "cell_type": "code",
   "execution_count": 98,
   "id": "ddbefd1e",
   "metadata": {},
   "outputs": [
    {
     "name": "stderr",
     "output_type": "stream",
     "text": [
      "/var/folders/0f/gkm6knzn3fscjt7dxlgc9k5h0000gn/T/ipykernel_43024/3646433676.py:7: FutureWarning: elementwise comparison failed; returning scalar instead, but in the future will perform elementwise comparison\n",
      "  (downloads == 'S').sum(axis=1)\n"
     ]
    },
    {
     "ename": "AttributeError",
     "evalue": "'bool' object has no attribute 'sum'",
     "output_type": "error",
     "traceback": [
      "\u001b[0;31m---------------------------------------------------------------------------\u001b[0m",
      "\u001b[0;31mAttributeError\u001b[0m                            Traceback (most recent call last)",
      "Cell \u001b[0;32mIn[98], line 7\u001b[0m\n\u001b[1;32m      5\u001b[0m p \u001b[38;5;241m=\u001b[39m \u001b[38;5;241m1\u001b[39m\u001b[38;5;241m/\u001b[39m\u001b[38;5;241m250\u001b[39m\n\u001b[1;32m      6\u001b[0m downloads\n\u001b[0;32m----> 7\u001b[0m \u001b[43m(\u001b[49m\u001b[43mdownloads\u001b[49m\u001b[43m \u001b[49m\u001b[38;5;241;43m==\u001b[39;49m\u001b[43m \u001b[49m\u001b[38;5;124;43m'\u001b[39;49m\u001b[38;5;124;43mS\u001b[39;49m\u001b[38;5;124;43m'\u001b[39;49m\u001b[43m)\u001b[49m\u001b[38;5;241;43m.\u001b[39;49m\u001b[43msum\u001b[49m(axis\u001b[38;5;241m=\u001b[39m\u001b[38;5;241m1\u001b[39m)\n\u001b[1;32m      8\u001b[0m failure \u001b[38;5;241m=\u001b[39m downloads \u001b[38;5;241m<\u001b[39m p\n\u001b[1;32m      9\u001b[0m (failure\u001b[38;5;241m.\u001b[39msum(axis\u001b[38;5;241m=\u001b[39m\u001b[38;5;241m1\u001b[39m) \u001b[38;5;241m==\u001b[39m \u001b[38;5;241m0\u001b[39m)\u001b[38;5;241m.\u001b[39mmean()\n",
      "\u001b[0;31mAttributeError\u001b[0m: 'bool' object has no attribute 'sum'"
     ]
    }
   ],
   "source": [
    "outcomes = ['S', 'F']\n",
    "number_of_students = 100\n",
    "\n",
    "downloads = np.random.random((n_simulations, number_of_students)) \n",
    "p = 1/250\n",
    "downloads\n",
    "(downloads == 'S').sum(axis=1)\n",
    "failure = downloads < p\n",
    "(failure.sum(axis=1) == 0).mean()"
   ]
  },
  {
   "cell_type": "markdown",
   "id": "73a74957",
   "metadata": {},
   "source": [
    "<hr style=\"border:0.5px solid black\">"
   ]
  },
  {
   "cell_type": "markdown",
   "id": "ca7d2321",
   "metadata": {},
   "source": [
    "##### 150 installs at least 1 fail"
   ]
  },
  {
   "cell_type": "code",
   "execution_count": 51,
   "id": "fe78eefb",
   "metadata": {},
   "outputs": [
    {
     "data": {
      "text/plain": [
       "0.44986"
      ]
     },
     "execution_count": 51,
     "metadata": {},
     "output_type": "execute_result"
    }
   ],
   "source": [
    "outcomes = ['S', 'F'] \n",
    "n_students = 150\n",
    "\n",
    "downloads = np.random.choice(outcomes, size=(n_simulations, n_students), \n",
    "                p = [249/250, 1/250])\n",
    "\n",
    "((downloads == 'S').sum(axis=1) < n_students).mean()"
   ]
  },
  {
   "cell_type": "markdown",
   "id": "7312b8ad",
   "metadata": {},
   "source": [
    "<hr style=\"border:0.5px solid black\">"
   ]
  },
  {
   "cell_type": "markdown",
   "id": "27bc664f",
   "metadata": {},
   "source": [
    "##### 450 installs"
   ]
  },
  {
   "cell_type": "code",
   "execution_count": null,
   "id": "03bb4520",
   "metadata": {},
   "outputs": [],
   "source": [
    "outcomes = ['S', 'F']\n",
    "n_students = 450\n",
    "\n",
    "downloads = np.random.choice(outcomes, size=(n_simulations, n_students), \n",
    "                p = [249/250, 1/250])\n",
    "\n",
    "((downloads == 'S').sum(axis=1) == n_students).mean()"
   ]
  },
  {
   "cell_type": "markdown",
   "id": "9796f514",
   "metadata": {},
   "source": [
    "<hr style=\"border:1px solid black\">"
   ]
  },
  {
   "cell_type": "markdown",
   "id": "236784f3",
   "metadata": {},
   "source": [
    "### 7. There's a 70% chance on any given day that there will be at least one food truck at Travis Park. However, you haven't seen a food truck there in 3 days. How unlikely is this?"
   ]
  },
  {
   "cell_type": "code",
   "execution_count": null,
   "id": "999d35f3",
   "metadata": {},
   "outputs": [],
   "source": [
    "n_days = 3"
   ]
  },
  {
   "cell_type": "code",
   "execution_count": null,
   "id": "a01d2aa9",
   "metadata": {},
   "outputs": [],
   "source": [
    "# 0 = no truck, 1 = truck shows up\n",
    "trucks = np.random.choice([0, 1], size = (n_simulations, n_days), p = [0.3, 0.7])\n",
    "\n",
    "#call the variable\n",
    "trucks"
   ]
  },
  {
   "cell_type": "markdown",
   "id": "8abca28c",
   "metadata": {},
   "source": [
    "##### probability that no truck shows up in 3 days"
   ]
  },
  {
   "cell_type": "code",
   "execution_count": null,
   "id": "6a2f476d",
   "metadata": {},
   "outputs": [],
   "source": [
    "#axis 1 is 0 (or no truck shows up)\n",
    "(trucks.sum(axis = 1) == 0).mean()"
   ]
  },
  {
   "cell_type": "markdown",
   "id": "e379c410",
   "metadata": {},
   "source": [
    "##### How likely is it that a food truck will show up sometime this week"
   ]
  },
  {
   "cell_type": "code",
   "execution_count": null,
   "id": "788b14f7",
   "metadata": {},
   "outputs": [],
   "source": [
    "#likelyhood that in axis 1 there is a 1 (or a truck DOES show up) one or more days\n",
    "(trucks.sum(axis = 1) >= 1).mean()"
   ]
  },
  {
   "cell_type": "markdown",
   "id": "2523b40a",
   "metadata": {},
   "source": [
    "<hr style=\"border:1px solid black\">"
   ]
  },
  {
   "cell_type": "markdown",
   "id": "b920ea80",
   "metadata": {},
   "source": [
    "### 8. If 23 people are in the same room, what are the odds that two of them share a birthday? What if it's 20 people? 40?\n"
   ]
  },
  {
   "cell_type": "markdown",
   "id": "2c406f38",
   "metadata": {},
   "source": [
    "Let's break it down:\n",
    "- 365 days in a year\n",
    "- what's the probability of same birthday"
   ]
  },
  {
   "cell_type": "markdown",
   "id": "13514040",
   "metadata": {},
   "source": [
    "#### 23 students in the class"
   ]
  },
  {
   "cell_type": "code",
   "execution_count": null,
   "id": "80ec2476",
   "metadata": {},
   "outputs": [],
   "source": [
    "#number of days in a year\n",
    "outcomes = range(0, 365) \n",
    "\n",
    "#number of students\n",
    "n_students= 23 "
   ]
  },
  {
   "cell_type": "code",
   "execution_count": null,
   "id": "150f9254",
   "metadata": {},
   "outputs": [],
   "source": [
    "#using random choice to get the possible birthdays\n",
    "birthdays= np.random.choice(outcomes, size=(n_simulations, n_students))\n",
    "\n",
    "#call that variable\n",
    "birthdays"
   ]
  },
  {
   "cell_type": "code",
   "execution_count": null,
   "id": "ec7ca991",
   "metadata": {},
   "outputs": [],
   "source": [
    "#turn it into a DF so it's easier to read\n",
    "birthdays = pd.DataFrame(birthdays)\n",
    "\n",
    "#call our new DF\n",
    "birthdays.head()"
   ]
  },
  {
   "cell_type": "code",
   "execution_count": null,
   "id": "d6958310",
   "metadata": {},
   "outputs": [],
   "source": [
    "#what are the chances that on average we will have a unique birthday\n",
    "(birthdays.nunique(axis=1) < 23).mean()"
   ]
  },
  {
   "cell_type": "markdown",
   "id": "9e992151",
   "metadata": {},
   "source": [
    "<hr style=\"border:0.5px solid black\">"
   ]
  },
  {
   "cell_type": "markdown",
   "id": "02ad2f25",
   "metadata": {},
   "source": [
    "#### 20 students per class"
   ]
  },
  {
   "cell_type": "code",
   "execution_count": 60,
   "id": "53fd520e",
   "metadata": {},
   "outputs": [],
   "source": [
    "#number of days in a year\n",
    "outcomes = range(0, 365) \n",
    "\n",
    "#number of students\n",
    "n_students= 20 "
   ]
  },
  {
   "cell_type": "code",
   "execution_count": 61,
   "id": "b6272a2a",
   "metadata": {},
   "outputs": [
    {
     "data": {
      "text/html": [
       "<div>\n",
       "<style scoped>\n",
       "    .dataframe tbody tr th:only-of-type {\n",
       "        vertical-align: middle;\n",
       "    }\n",
       "\n",
       "    .dataframe tbody tr th {\n",
       "        vertical-align: top;\n",
       "    }\n",
       "\n",
       "    .dataframe thead th {\n",
       "        text-align: right;\n",
       "    }\n",
       "</style>\n",
       "<table border=\"1\" class=\"dataframe\">\n",
       "  <thead>\n",
       "    <tr style=\"text-align: right;\">\n",
       "      <th></th>\n",
       "      <th>0</th>\n",
       "      <th>1</th>\n",
       "      <th>2</th>\n",
       "      <th>3</th>\n",
       "      <th>4</th>\n",
       "      <th>5</th>\n",
       "      <th>6</th>\n",
       "      <th>7</th>\n",
       "      <th>8</th>\n",
       "      <th>9</th>\n",
       "      <th>10</th>\n",
       "      <th>11</th>\n",
       "      <th>12</th>\n",
       "      <th>13</th>\n",
       "      <th>14</th>\n",
       "      <th>15</th>\n",
       "      <th>16</th>\n",
       "      <th>17</th>\n",
       "      <th>18</th>\n",
       "      <th>19</th>\n",
       "    </tr>\n",
       "  </thead>\n",
       "  <tbody>\n",
       "    <tr>\n",
       "      <th>0</th>\n",
       "      <td>80</td>\n",
       "      <td>231</td>\n",
       "      <td>258</td>\n",
       "      <td>136</td>\n",
       "      <td>318</td>\n",
       "      <td>55</td>\n",
       "      <td>304</td>\n",
       "      <td>162</td>\n",
       "      <td>54</td>\n",
       "      <td>203</td>\n",
       "      <td>290</td>\n",
       "      <td>332</td>\n",
       "      <td>146</td>\n",
       "      <td>101</td>\n",
       "      <td>301</td>\n",
       "      <td>187</td>\n",
       "      <td>115</td>\n",
       "      <td>80</td>\n",
       "      <td>316</td>\n",
       "      <td>295</td>\n",
       "    </tr>\n",
       "    <tr>\n",
       "      <th>1</th>\n",
       "      <td>41</td>\n",
       "      <td>31</td>\n",
       "      <td>155</td>\n",
       "      <td>92</td>\n",
       "      <td>327</td>\n",
       "      <td>26</td>\n",
       "      <td>199</td>\n",
       "      <td>119</td>\n",
       "      <td>218</td>\n",
       "      <td>64</td>\n",
       "      <td>49</td>\n",
       "      <td>297</td>\n",
       "      <td>231</td>\n",
       "      <td>187</td>\n",
       "      <td>243</td>\n",
       "      <td>230</td>\n",
       "      <td>276</td>\n",
       "      <td>323</td>\n",
       "      <td>37</td>\n",
       "      <td>5</td>\n",
       "    </tr>\n",
       "    <tr>\n",
       "      <th>2</th>\n",
       "      <td>3</td>\n",
       "      <td>72</td>\n",
       "      <td>5</td>\n",
       "      <td>355</td>\n",
       "      <td>192</td>\n",
       "      <td>158</td>\n",
       "      <td>130</td>\n",
       "      <td>49</td>\n",
       "      <td>67</td>\n",
       "      <td>256</td>\n",
       "      <td>343</td>\n",
       "      <td>291</td>\n",
       "      <td>253</td>\n",
       "      <td>205</td>\n",
       "      <td>83</td>\n",
       "      <td>230</td>\n",
       "      <td>134</td>\n",
       "      <td>170</td>\n",
       "      <td>126</td>\n",
       "      <td>69</td>\n",
       "    </tr>\n",
       "    <tr>\n",
       "      <th>3</th>\n",
       "      <td>347</td>\n",
       "      <td>170</td>\n",
       "      <td>94</td>\n",
       "      <td>291</td>\n",
       "      <td>240</td>\n",
       "      <td>183</td>\n",
       "      <td>14</td>\n",
       "      <td>246</td>\n",
       "      <td>111</td>\n",
       "      <td>339</td>\n",
       "      <td>163</td>\n",
       "      <td>275</td>\n",
       "      <td>70</td>\n",
       "      <td>196</td>\n",
       "      <td>99</td>\n",
       "      <td>83</td>\n",
       "      <td>242</td>\n",
       "      <td>197</td>\n",
       "      <td>242</td>\n",
       "      <td>310</td>\n",
       "    </tr>\n",
       "    <tr>\n",
       "      <th>4</th>\n",
       "      <td>203</td>\n",
       "      <td>36</td>\n",
       "      <td>142</td>\n",
       "      <td>34</td>\n",
       "      <td>320</td>\n",
       "      <td>29</td>\n",
       "      <td>196</td>\n",
       "      <td>202</td>\n",
       "      <td>266</td>\n",
       "      <td>57</td>\n",
       "      <td>359</td>\n",
       "      <td>39</td>\n",
       "      <td>117</td>\n",
       "      <td>363</td>\n",
       "      <td>342</td>\n",
       "      <td>31</td>\n",
       "      <td>259</td>\n",
       "      <td>207</td>\n",
       "      <td>112</td>\n",
       "      <td>105</td>\n",
       "    </tr>\n",
       "    <tr>\n",
       "      <th>...</th>\n",
       "      <td>...</td>\n",
       "      <td>...</td>\n",
       "      <td>...</td>\n",
       "      <td>...</td>\n",
       "      <td>...</td>\n",
       "      <td>...</td>\n",
       "      <td>...</td>\n",
       "      <td>...</td>\n",
       "      <td>...</td>\n",
       "      <td>...</td>\n",
       "      <td>...</td>\n",
       "      <td>...</td>\n",
       "      <td>...</td>\n",
       "      <td>...</td>\n",
       "      <td>...</td>\n",
       "      <td>...</td>\n",
       "      <td>...</td>\n",
       "      <td>...</td>\n",
       "      <td>...</td>\n",
       "      <td>...</td>\n",
       "    </tr>\n",
       "    <tr>\n",
       "      <th>99995</th>\n",
       "      <td>132</td>\n",
       "      <td>32</td>\n",
       "      <td>24</td>\n",
       "      <td>335</td>\n",
       "      <td>179</td>\n",
       "      <td>137</td>\n",
       "      <td>291</td>\n",
       "      <td>189</td>\n",
       "      <td>256</td>\n",
       "      <td>271</td>\n",
       "      <td>214</td>\n",
       "      <td>346</td>\n",
       "      <td>109</td>\n",
       "      <td>10</td>\n",
       "      <td>306</td>\n",
       "      <td>245</td>\n",
       "      <td>6</td>\n",
       "      <td>323</td>\n",
       "      <td>170</td>\n",
       "      <td>78</td>\n",
       "    </tr>\n",
       "    <tr>\n",
       "      <th>99996</th>\n",
       "      <td>89</td>\n",
       "      <td>50</td>\n",
       "      <td>316</td>\n",
       "      <td>362</td>\n",
       "      <td>100</td>\n",
       "      <td>152</td>\n",
       "      <td>22</td>\n",
       "      <td>84</td>\n",
       "      <td>129</td>\n",
       "      <td>281</td>\n",
       "      <td>360</td>\n",
       "      <td>194</td>\n",
       "      <td>312</td>\n",
       "      <td>87</td>\n",
       "      <td>13</td>\n",
       "      <td>56</td>\n",
       "      <td>100</td>\n",
       "      <td>348</td>\n",
       "      <td>205</td>\n",
       "      <td>45</td>\n",
       "    </tr>\n",
       "    <tr>\n",
       "      <th>99997</th>\n",
       "      <td>32</td>\n",
       "      <td>130</td>\n",
       "      <td>157</td>\n",
       "      <td>15</td>\n",
       "      <td>359</td>\n",
       "      <td>154</td>\n",
       "      <td>312</td>\n",
       "      <td>70</td>\n",
       "      <td>11</td>\n",
       "      <td>189</td>\n",
       "      <td>142</td>\n",
       "      <td>357</td>\n",
       "      <td>149</td>\n",
       "      <td>169</td>\n",
       "      <td>291</td>\n",
       "      <td>338</td>\n",
       "      <td>291</td>\n",
       "      <td>210</td>\n",
       "      <td>362</td>\n",
       "      <td>292</td>\n",
       "    </tr>\n",
       "    <tr>\n",
       "      <th>99998</th>\n",
       "      <td>270</td>\n",
       "      <td>347</td>\n",
       "      <td>36</td>\n",
       "      <td>181</td>\n",
       "      <td>285</td>\n",
       "      <td>0</td>\n",
       "      <td>231</td>\n",
       "      <td>267</td>\n",
       "      <td>78</td>\n",
       "      <td>82</td>\n",
       "      <td>174</td>\n",
       "      <td>60</td>\n",
       "      <td>147</td>\n",
       "      <td>108</td>\n",
       "      <td>8</td>\n",
       "      <td>131</td>\n",
       "      <td>70</td>\n",
       "      <td>256</td>\n",
       "      <td>194</td>\n",
       "      <td>329</td>\n",
       "    </tr>\n",
       "    <tr>\n",
       "      <th>99999</th>\n",
       "      <td>63</td>\n",
       "      <td>184</td>\n",
       "      <td>51</td>\n",
       "      <td>321</td>\n",
       "      <td>26</td>\n",
       "      <td>122</td>\n",
       "      <td>335</td>\n",
       "      <td>205</td>\n",
       "      <td>198</td>\n",
       "      <td>19</td>\n",
       "      <td>255</td>\n",
       "      <td>267</td>\n",
       "      <td>295</td>\n",
       "      <td>16</td>\n",
       "      <td>259</td>\n",
       "      <td>71</td>\n",
       "      <td>304</td>\n",
       "      <td>363</td>\n",
       "      <td>37</td>\n",
       "      <td>19</td>\n",
       "    </tr>\n",
       "  </tbody>\n",
       "</table>\n",
       "<p>100000 rows × 20 columns</p>\n",
       "</div>"
      ],
      "text/plain": [
       "        0    1    2    3    4    5    6    7    8    9    10   11   12   13  \\\n",
       "0       80  231  258  136  318   55  304  162   54  203  290  332  146  101   \n",
       "1       41   31  155   92  327   26  199  119  218   64   49  297  231  187   \n",
       "2        3   72    5  355  192  158  130   49   67  256  343  291  253  205   \n",
       "3      347  170   94  291  240  183   14  246  111  339  163  275   70  196   \n",
       "4      203   36  142   34  320   29  196  202  266   57  359   39  117  363   \n",
       "...    ...  ...  ...  ...  ...  ...  ...  ...  ...  ...  ...  ...  ...  ...   \n",
       "99995  132   32   24  335  179  137  291  189  256  271  214  346  109   10   \n",
       "99996   89   50  316  362  100  152   22   84  129  281  360  194  312   87   \n",
       "99997   32  130  157   15  359  154  312   70   11  189  142  357  149  169   \n",
       "99998  270  347   36  181  285    0  231  267   78   82  174   60  147  108   \n",
       "99999   63  184   51  321   26  122  335  205  198   19  255  267  295   16   \n",
       "\n",
       "        14   15   16   17   18   19  \n",
       "0      301  187  115   80  316  295  \n",
       "1      243  230  276  323   37    5  \n",
       "2       83  230  134  170  126   69  \n",
       "3       99   83  242  197  242  310  \n",
       "4      342   31  259  207  112  105  \n",
       "...    ...  ...  ...  ...  ...  ...  \n",
       "99995  306  245    6  323  170   78  \n",
       "99996   13   56  100  348  205   45  \n",
       "99997  291  338  291  210  362  292  \n",
       "99998    8  131   70  256  194  329  \n",
       "99999  259   71  304  363   37   19  \n",
       "\n",
       "[100000 rows x 20 columns]"
      ]
     },
     "execution_count": 61,
     "metadata": {},
     "output_type": "execute_result"
    }
   ],
   "source": [
    "#let's see what the possibility of birhtdays is with 20 students\n",
    "birthdays= np.random.choice(outcomes, size=(n_simulations, n_students))\n",
    "\n",
    "#turn that into a DF\n",
    "birthdays = pd.DataFrame(birthdays)\n",
    "\n",
    "#call the DF\n",
    "birthdays"
   ]
  },
  {
   "cell_type": "code",
   "execution_count": 58,
   "id": "cb936e94",
   "metadata": {},
   "outputs": [
    {
     "ename": "SyntaxError",
     "evalue": "cannot assign to function call here. Maybe you meant '==' instead of '='? (3799527546.py, line 2)",
     "output_type": "error",
     "traceback": [
      "\u001b[0;36m  Cell \u001b[0;32mIn[58], line 2\u001b[0;36m\u001b[0m\n\u001b[0;31m    (birthdays.nunique(axis=1) = n_students).mean()\u001b[0m\n\u001b[0m     ^\u001b[0m\n\u001b[0;31mSyntaxError\u001b[0m\u001b[0;31m:\u001b[0m cannot assign to function call here. Maybe you meant '==' instead of '='?\n"
     ]
    }
   ],
   "source": [
    "#get the probability\n",
    "(birthdays.nunique(axis=1) = n_students).mean()"
   ]
  },
  {
   "cell_type": "markdown",
   "id": "326bc901",
   "metadata": {},
   "source": [
    "<hr style=\"border:0.5px solid black\">"
   ]
  },
  {
   "cell_type": "markdown",
   "id": "853e9618",
   "metadata": {},
   "source": [
    "##### 40 students per class"
   ]
  },
  {
   "cell_type": "code",
   "execution_count": 57,
   "id": "8a2b9eff",
   "metadata": {},
   "outputs": [
    {
     "data": {
      "text/html": [
       "<div>\n",
       "<style scoped>\n",
       "    .dataframe tbody tr th:only-of-type {\n",
       "        vertical-align: middle;\n",
       "    }\n",
       "\n",
       "    .dataframe tbody tr th {\n",
       "        vertical-align: top;\n",
       "    }\n",
       "\n",
       "    .dataframe thead th {\n",
       "        text-align: right;\n",
       "    }\n",
       "</style>\n",
       "<table border=\"1\" class=\"dataframe\">\n",
       "  <thead>\n",
       "    <tr style=\"text-align: right;\">\n",
       "      <th></th>\n",
       "      <th>0</th>\n",
       "      <th>1</th>\n",
       "      <th>2</th>\n",
       "      <th>3</th>\n",
       "      <th>4</th>\n",
       "      <th>5</th>\n",
       "      <th>6</th>\n",
       "      <th>7</th>\n",
       "      <th>8</th>\n",
       "      <th>9</th>\n",
       "      <th>...</th>\n",
       "      <th>30</th>\n",
       "      <th>31</th>\n",
       "      <th>32</th>\n",
       "      <th>33</th>\n",
       "      <th>34</th>\n",
       "      <th>35</th>\n",
       "      <th>36</th>\n",
       "      <th>37</th>\n",
       "      <th>38</th>\n",
       "      <th>39</th>\n",
       "    </tr>\n",
       "  </thead>\n",
       "  <tbody>\n",
       "    <tr>\n",
       "      <th>0</th>\n",
       "      <td>56</td>\n",
       "      <td>169</td>\n",
       "      <td>347</td>\n",
       "      <td>124</td>\n",
       "      <td>18</td>\n",
       "      <td>13</td>\n",
       "      <td>267</td>\n",
       "      <td>81</td>\n",
       "      <td>22</td>\n",
       "      <td>95</td>\n",
       "      <td>...</td>\n",
       "      <td>322</td>\n",
       "      <td>58</td>\n",
       "      <td>297</td>\n",
       "      <td>364</td>\n",
       "      <td>236</td>\n",
       "      <td>331</td>\n",
       "      <td>28</td>\n",
       "      <td>87</td>\n",
       "      <td>178</td>\n",
       "      <td>269</td>\n",
       "    </tr>\n",
       "    <tr>\n",
       "      <th>1</th>\n",
       "      <td>62</td>\n",
       "      <td>88</td>\n",
       "      <td>9</td>\n",
       "      <td>299</td>\n",
       "      <td>344</td>\n",
       "      <td>244</td>\n",
       "      <td>109</td>\n",
       "      <td>108</td>\n",
       "      <td>164</td>\n",
       "      <td>82</td>\n",
       "      <td>...</td>\n",
       "      <td>302</td>\n",
       "      <td>331</td>\n",
       "      <td>160</td>\n",
       "      <td>330</td>\n",
       "      <td>66</td>\n",
       "      <td>61</td>\n",
       "      <td>1</td>\n",
       "      <td>69</td>\n",
       "      <td>318</td>\n",
       "      <td>32</td>\n",
       "    </tr>\n",
       "    <tr>\n",
       "      <th>2</th>\n",
       "      <td>147</td>\n",
       "      <td>171</td>\n",
       "      <td>170</td>\n",
       "      <td>165</td>\n",
       "      <td>315</td>\n",
       "      <td>204</td>\n",
       "      <td>321</td>\n",
       "      <td>77</td>\n",
       "      <td>129</td>\n",
       "      <td>49</td>\n",
       "      <td>...</td>\n",
       "      <td>283</td>\n",
       "      <td>85</td>\n",
       "      <td>335</td>\n",
       "      <td>344</td>\n",
       "      <td>292</td>\n",
       "      <td>285</td>\n",
       "      <td>80</td>\n",
       "      <td>129</td>\n",
       "      <td>99</td>\n",
       "      <td>95</td>\n",
       "    </tr>\n",
       "    <tr>\n",
       "      <th>3</th>\n",
       "      <td>225</td>\n",
       "      <td>34</td>\n",
       "      <td>96</td>\n",
       "      <td>210</td>\n",
       "      <td>117</td>\n",
       "      <td>222</td>\n",
       "      <td>360</td>\n",
       "      <td>119</td>\n",
       "      <td>22</td>\n",
       "      <td>39</td>\n",
       "      <td>...</td>\n",
       "      <td>345</td>\n",
       "      <td>184</td>\n",
       "      <td>191</td>\n",
       "      <td>256</td>\n",
       "      <td>200</td>\n",
       "      <td>280</td>\n",
       "      <td>213</td>\n",
       "      <td>42</td>\n",
       "      <td>143</td>\n",
       "      <td>342</td>\n",
       "    </tr>\n",
       "    <tr>\n",
       "      <th>4</th>\n",
       "      <td>162</td>\n",
       "      <td>124</td>\n",
       "      <td>102</td>\n",
       "      <td>15</td>\n",
       "      <td>248</td>\n",
       "      <td>224</td>\n",
       "      <td>129</td>\n",
       "      <td>345</td>\n",
       "      <td>236</td>\n",
       "      <td>236</td>\n",
       "      <td>...</td>\n",
       "      <td>193</td>\n",
       "      <td>88</td>\n",
       "      <td>123</td>\n",
       "      <td>289</td>\n",
       "      <td>210</td>\n",
       "      <td>154</td>\n",
       "      <td>106</td>\n",
       "      <td>254</td>\n",
       "      <td>198</td>\n",
       "      <td>51</td>\n",
       "    </tr>\n",
       "    <tr>\n",
       "      <th>...</th>\n",
       "      <td>...</td>\n",
       "      <td>...</td>\n",
       "      <td>...</td>\n",
       "      <td>...</td>\n",
       "      <td>...</td>\n",
       "      <td>...</td>\n",
       "      <td>...</td>\n",
       "      <td>...</td>\n",
       "      <td>...</td>\n",
       "      <td>...</td>\n",
       "      <td>...</td>\n",
       "      <td>...</td>\n",
       "      <td>...</td>\n",
       "      <td>...</td>\n",
       "      <td>...</td>\n",
       "      <td>...</td>\n",
       "      <td>...</td>\n",
       "      <td>...</td>\n",
       "      <td>...</td>\n",
       "      <td>...</td>\n",
       "      <td>...</td>\n",
       "    </tr>\n",
       "    <tr>\n",
       "      <th>99995</th>\n",
       "      <td>189</td>\n",
       "      <td>343</td>\n",
       "      <td>246</td>\n",
       "      <td>167</td>\n",
       "      <td>4</td>\n",
       "      <td>339</td>\n",
       "      <td>154</td>\n",
       "      <td>9</td>\n",
       "      <td>316</td>\n",
       "      <td>350</td>\n",
       "      <td>...</td>\n",
       "      <td>51</td>\n",
       "      <td>107</td>\n",
       "      <td>152</td>\n",
       "      <td>44</td>\n",
       "      <td>325</td>\n",
       "      <td>38</td>\n",
       "      <td>219</td>\n",
       "      <td>352</td>\n",
       "      <td>215</td>\n",
       "      <td>347</td>\n",
       "    </tr>\n",
       "    <tr>\n",
       "      <th>99996</th>\n",
       "      <td>324</td>\n",
       "      <td>295</td>\n",
       "      <td>177</td>\n",
       "      <td>108</td>\n",
       "      <td>146</td>\n",
       "      <td>222</td>\n",
       "      <td>230</td>\n",
       "      <td>326</td>\n",
       "      <td>151</td>\n",
       "      <td>330</td>\n",
       "      <td>...</td>\n",
       "      <td>293</td>\n",
       "      <td>23</td>\n",
       "      <td>242</td>\n",
       "      <td>232</td>\n",
       "      <td>324</td>\n",
       "      <td>193</td>\n",
       "      <td>341</td>\n",
       "      <td>323</td>\n",
       "      <td>239</td>\n",
       "      <td>171</td>\n",
       "    </tr>\n",
       "    <tr>\n",
       "      <th>99997</th>\n",
       "      <td>90</td>\n",
       "      <td>252</td>\n",
       "      <td>194</td>\n",
       "      <td>358</td>\n",
       "      <td>87</td>\n",
       "      <td>123</td>\n",
       "      <td>361</td>\n",
       "      <td>266</td>\n",
       "      <td>121</td>\n",
       "      <td>267</td>\n",
       "      <td>...</td>\n",
       "      <td>340</td>\n",
       "      <td>246</td>\n",
       "      <td>260</td>\n",
       "      <td>10</td>\n",
       "      <td>55</td>\n",
       "      <td>278</td>\n",
       "      <td>41</td>\n",
       "      <td>183</td>\n",
       "      <td>138</td>\n",
       "      <td>102</td>\n",
       "    </tr>\n",
       "    <tr>\n",
       "      <th>99998</th>\n",
       "      <td>104</td>\n",
       "      <td>20</td>\n",
       "      <td>277</td>\n",
       "      <td>63</td>\n",
       "      <td>276</td>\n",
       "      <td>110</td>\n",
       "      <td>186</td>\n",
       "      <td>66</td>\n",
       "      <td>48</td>\n",
       "      <td>308</td>\n",
       "      <td>...</td>\n",
       "      <td>191</td>\n",
       "      <td>22</td>\n",
       "      <td>275</td>\n",
       "      <td>6</td>\n",
       "      <td>83</td>\n",
       "      <td>227</td>\n",
       "      <td>20</td>\n",
       "      <td>201</td>\n",
       "      <td>364</td>\n",
       "      <td>335</td>\n",
       "    </tr>\n",
       "    <tr>\n",
       "      <th>99999</th>\n",
       "      <td>127</td>\n",
       "      <td>264</td>\n",
       "      <td>129</td>\n",
       "      <td>191</td>\n",
       "      <td>310</td>\n",
       "      <td>299</td>\n",
       "      <td>195</td>\n",
       "      <td>342</td>\n",
       "      <td>314</td>\n",
       "      <td>61</td>\n",
       "      <td>...</td>\n",
       "      <td>362</td>\n",
       "      <td>285</td>\n",
       "      <td>43</td>\n",
       "      <td>156</td>\n",
       "      <td>348</td>\n",
       "      <td>265</td>\n",
       "      <td>189</td>\n",
       "      <td>233</td>\n",
       "      <td>120</td>\n",
       "      <td>80</td>\n",
       "    </tr>\n",
       "  </tbody>\n",
       "</table>\n",
       "<p>100000 rows × 40 columns</p>\n",
       "</div>"
      ],
      "text/plain": [
       "        0    1    2    3    4    5    6    7    8    9   ...   30   31   32  \\\n",
       "0       56  169  347  124   18   13  267   81   22   95  ...  322   58  297   \n",
       "1       62   88    9  299  344  244  109  108  164   82  ...  302  331  160   \n",
       "2      147  171  170  165  315  204  321   77  129   49  ...  283   85  335   \n",
       "3      225   34   96  210  117  222  360  119   22   39  ...  345  184  191   \n",
       "4      162  124  102   15  248  224  129  345  236  236  ...  193   88  123   \n",
       "...    ...  ...  ...  ...  ...  ...  ...  ...  ...  ...  ...  ...  ...  ...   \n",
       "99995  189  343  246  167    4  339  154    9  316  350  ...   51  107  152   \n",
       "99996  324  295  177  108  146  222  230  326  151  330  ...  293   23  242   \n",
       "99997   90  252  194  358   87  123  361  266  121  267  ...  340  246  260   \n",
       "99998  104   20  277   63  276  110  186   66   48  308  ...  191   22  275   \n",
       "99999  127  264  129  191  310  299  195  342  314   61  ...  362  285   43   \n",
       "\n",
       "        33   34   35   36   37   38   39  \n",
       "0      364  236  331   28   87  178  269  \n",
       "1      330   66   61    1   69  318   32  \n",
       "2      344  292  285   80  129   99   95  \n",
       "3      256  200  280  213   42  143  342  \n",
       "4      289  210  154  106  254  198   51  \n",
       "...    ...  ...  ...  ...  ...  ...  ...  \n",
       "99995   44  325   38  219  352  215  347  \n",
       "99996  232  324  193  341  323  239  171  \n",
       "99997   10   55  278   41  183  138  102  \n",
       "99998    6   83  227   20  201  364  335  \n",
       "99999  156  348  265  189  233  120   80  \n",
       "\n",
       "[100000 rows x 40 columns]"
      ]
     },
     "execution_count": 57,
     "metadata": {},
     "output_type": "execute_result"
    }
   ],
   "source": [
    "#number of days in a year\n",
    "outcomes = range(0, 365) \n",
    "\n",
    "#number of students\n",
    "n_students = 40\n",
    "\n",
    "#let's see what the possibility of birhtdays is with 40 students\n",
    "birthdays = np.random.choice(outcomes, size=(n_simulations, n_students))\n",
    "\n",
    "#call the DF\n",
    "birthdays = pd.DataFrame(birthdays)\n",
    "birthdays"
   ]
  },
  {
   "cell_type": "code",
   "execution_count": 53,
   "id": "6442a001",
   "metadata": {},
   "outputs": [
    {
     "data": {
      "text/plain": [
       "0.88993"
      ]
     },
     "execution_count": 53,
     "metadata": {},
     "output_type": "execute_result"
    }
   ],
   "source": [
    "#get the probability\n",
    "(birthdays.nunique(axis=1) < n_students).mean()"
   ]
  }
 ],
 "metadata": {
  "kernelspec": {
   "display_name": "Python 3 (ipykernel)",
   "language": "python",
   "name": "python3"
  },
  "language_info": {
   "codemirror_mode": {
    "name": "ipython",
    "version": 3
   },
   "file_extension": ".py",
   "mimetype": "text/x-python",
   "name": "python",
   "nbconvert_exporter": "python",
   "pygments_lexer": "ipython3",
   "version": "3.10.9"
  }
 },
 "nbformat": 4,
 "nbformat_minor": 5
}
